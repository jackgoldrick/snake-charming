{
 "cells": [
  {
   "cell_type": "code",
   "execution_count": 2,
   "metadata": {},
   "outputs": [],
   "source": [
    "exchange ={\"SGD\":{ \"Euro\": 1.8}}\n",
    "\n",
    "class Money :\n",
    "    def __init__(self, amount, currency) :\n",
    "        self.amount = amount\n",
    "        self.currency = currency\n",
    "    \n",
    "    def __add__(self, money):\n",
    "        if isinstance(money, self.__class__) :\n",
    "            if self.currency == money.currency :\n",
    "                return Money(money.amount + money.amount, self.currency)\n",
    "            else :\n",
    "                convertedRate = exchange[self.currency] [money.currency] *money.amount\n",
    "                return Money(self.amount + convertedRate, self.currency)\n",
    "    def __sub__(self, money):\n",
    "        money.amount *= -1\n",
    "        return self.__add__(money)\n",
    "    def convert(self, currency) :\n",
    "        convertedRate = exchange[self.currency] [currency] *self.amount\n",
    "        return Money(convertedRate, currency)\n",
    "    def __repr__(self) :\n",
    "        return \"The amount is {} in {}\".format(round(self.amount, 2), self.currency)\n",
    "\n"
   ]
  },
  {
   "cell_type": "code",
   "execution_count": 3,
   "metadata": {},
   "outputs": [
    {
     "data": {
      "text/plain": [
       "The amount is 92.0 in SGD"
      ]
     },
     "execution_count": 3,
     "metadata": {},
     "output_type": "execute_result"
    }
   ],
   "source": [
    "Money(20, 'SGD') + Money(40, 'Euro')"
   ]
  }
 ],
 "metadata": {
  "kernelspec": {
   "display_name": "Python 3",
   "language": "python",
   "name": "python3"
  },
  "language_info": {
   "codemirror_mode": {
    "name": "ipython",
    "version": 3
   },
   "file_extension": ".py",
   "mimetype": "text/x-python",
   "name": "python",
   "nbconvert_exporter": "python",
   "pygments_lexer": "ipython3",
   "version": "3.12.3"
  }
 },
 "nbformat": 4,
 "nbformat_minor": 2
}
