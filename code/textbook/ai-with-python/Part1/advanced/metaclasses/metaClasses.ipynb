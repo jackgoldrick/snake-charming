{
 "cells": [
  {
   "cell_type": "code",
   "execution_count": 6,
   "metadata": {},
   "outputs": [],
   "source": [
    "class myMet(type):\n",
    "    \"\"\"\n",
    "    Here we see that myMet doesn't inherit from 'object' but \n",
    "    rather 'type' class - the builtin metaClass\n",
    "    \"\"\"\n",
    "    def __new__(cls, name, bases, attrs):\n",
    "        \"\"\"\n",
    "        Args:\n",
    "            name (str): name of the class being created\n",
    "            bases (tuple): tuple of classes which are the parents of cls\n",
    "            attrs (dict): dictionary of attributes of the class being created\n",
    "        \"\"\"\n",
    "\n",
    "        print(\"In new\")\n",
    "        print(name) \n",
    "        print(bases)\n",
    "        print(attrs)\n",
    "        return super(myMet, cls).__new__(cls, name, bases, attrs)\n",
    "    \n",
    "    def __init__(self, *args, **kwargs):\n",
    "        print(\"Initialized\")\n",
    "        print(self)\n",
    "        print(args)\n",
    "        print(kwargs)\n",
    "\n",
    "\n",
    "class Me(object):\n",
    "    __metaclass__ = myMet\n",
    "\n",
    "    def foo(self):\n",
    "        print(\"foo\")\n",
    "\n",
    "\n"
   ]
  },
  {
   "cell_type": "code",
   "execution_count": 5,
   "metadata": {},
   "outputs": [
    {
     "name": "stdout",
     "output_type": "stream",
     "text": [
      "foo\n"
     ]
    }
   ],
   "source": [
    "m = Me()\n",
    "m.foo()"
   ]
  },
  {
   "cell_type": "code",
   "execution_count": 7,
   "metadata": {},
   "outputs": [],
   "source": [
    "class myMet(type):\n",
    "    \"\"\"\n",
    "    Here we see that myMet doesn't inherit from 'object' but \n",
    "    rather 'type' class - the builtin metaClass\n",
    "    \"\"\"\n",
    "    def __new__(cls, name, bases, attrs):\n",
    "        \"\"\"\n",
    "        Args:\n",
    "            name (str): name of the class being created\n",
    "            bases (tuple): tuple of classes which are the parents of cls\n",
    "            attrs (dict): dictionary of attributes of the class being created\n",
    "        \"\"\"\n",
    "\n",
    "        print(\"In new\")\n",
    "        print(name) \n",
    "        print(bases)\n",
    "        print(attrs)\n",
    "        def foo(self):\n",
    "            print(\"foo\")\n",
    "        attrs['foo'] = foo\n",
    "        return super(myMet, cls).__new__(cls, name, bases, attrs)\n",
    "    \n",
    "    def __init__(self, name, bases, attrs):\n",
    "        print(\"Initialized\")\n",
    "        print(self)\n",
    "        print(bases)\n",
    "        print(attrs)\n",
    "        def bar(self):\n",
    "            print(\"bar\")\n",
    "        setattr(self, \"bar\", bar)\n",
    "\n",
    "    def test(self):\n",
    "        print(\"test\")\n",
    "\n",
    "class Me(object):\n",
    "    __metaclass__ = myMet\n",
    "\n",
    "    def foo(self):\n",
    "        print(\"foo\")\n",
    "\n",
    "\n",
    "class Me2(object):\n",
    "    __metaclass__ = myMet\n",
    "\n",
    "    def foo(self):\n",
    "        pass\n",
    "    def bar(self):\n",
    "        pass\n",
    "    "
   ]
  },
  {
   "cell_type": "code",
   "execution_count": null,
   "metadata": {},
   "outputs": [],
   "source": []
  }
 ],
 "metadata": {
  "kernelspec": {
   "display_name": "Python 3",
   "language": "python",
   "name": "python3"
  },
  "language_info": {
   "codemirror_mode": {
    "name": "ipython",
    "version": 3
   },
   "file_extension": ".py",
   "mimetype": "text/x-python",
   "name": "python",
   "nbconvert_exporter": "python",
   "pygments_lexer": "ipython3",
   "version": "3.12.3"
  }
 },
 "nbformat": 4,
 "nbformat_minor": 2
}
