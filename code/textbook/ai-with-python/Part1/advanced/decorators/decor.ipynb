{
 "cells": [
  {
   "cell_type": "code",
   "execution_count": 1,
   "metadata": {},
   "outputs": [],
   "source": [
    "# closure example - raised_to_power returns a fxn that takes a variable\n",
    "# and raises to the power 'n'\n",
    "# 'n' is passed only once - while defining the function!\n",
    "\n",
    "def raised_to_power(n):\n",
    "    def fxn(x):\n",
    "        return x ** n\n",
    "    return fxn"
   ]
  },
  {
   "cell_type": "code",
   "execution_count": 2,
   "metadata": {},
   "outputs": [],
   "source": [
    "p2 = raised_to_power(2)\n",
    "p3 = raised_to_power(3)\n"
   ]
  },
  {
   "cell_type": "code",
   "execution_count": 3,
   "metadata": {},
   "outputs": [
    {
     "name": "stdout",
     "output_type": "stream",
     "text": [
      "4 9\n",
      "8 27\n"
     ]
    }
   ],
   "source": [
    "print (p2(2), p2(3)) # still remembers that n =2\n",
    "print (p3(2), p3(3)) # still remembers that n =3"
   ]
  },
  {
   "cell_type": "code",
   "execution_count": 5,
   "metadata": {},
   "outputs": [],
   "source": [
    "# have to be CAUTIOUS\n",
    "\n",
    "def power_list(n):\n",
    "    '''\n",
    "    returns a list of functions, each of which are raised to power i,\n",
    "    where i : 0 --> n\n",
    "    '''\n",
    "    fxnList = []\n",
    "\n",
    "    def fxn(x):\n",
    "        return x**i\n",
    "    \n",
    "    for i in range(n):\n",
    "        # doesn't matter if fn was defined here either\n",
    "        fxnList.append(fxn)\n",
    "    return fxnList\n",
    "\n",
    "\n"
   ]
  },
  {
   "cell_type": "code",
   "execution_count": 7,
   "metadata": {},
   "outputs": [
    {
     "name": "stdout",
     "output_type": "stream",
     "text": [
      "8\n",
      "8\n",
      "8\n",
      "8\n"
     ]
    }
   ],
   "source": [
    "for j in power_list(4) :\n",
    "    print (j(2))"
   ]
  },
  {
   "cell_type": "code",
   "execution_count": 9,
   "metadata": {},
   "outputs": [],
   "source": [
    "# decorator is just a nicer way of defining a closure - more syntactic zest\n",
    "\n",
    "def deco(fxn):\n",
    "    def newFxn(*args, **kwargs):\n",
    "        print(\"entering function\", fxn.__name__)\n",
    "        ret = fxn(*args, **kwargs)\n",
    "        print(\"leaving function\", fxn.__name__)\n",
    "    return newFxn\n",
    "\n"
   ]
  },
  {
   "cell_type": "code",
   "execution_count": 10,
   "metadata": {},
   "outputs": [],
   "source": [
    "@deco\n",
    "def foo(x):\n",
    "    print(\"x : \", x)\n",
    "    "
   ]
  },
  {
   "cell_type": "code",
   "execution_count": 11,
   "metadata": {},
   "outputs": [
    {
     "name": "stdout",
     "output_type": "stream",
     "text": [
      "entering function foo\n",
      "x :  4\n",
      "leaving function foo\n"
     ]
    }
   ],
   "source": [
    "foo(4)"
   ]
  },
  {
   "cell_type": "code",
   "execution_count": 13,
   "metadata": {},
   "outputs": [],
   "source": [
    "# Another Example\n",
    "\n",
    "def addH1(fxn) :\n",
    "    def nf(param) :\n",
    "        return \"<h1>\" + fxn(param) + \"</h1>\"\n",
    "    return nf\n",
    "\n",
    "@addH1\n",
    "def greet(name) :\n",
    "    return \"Hello {0}!\".format(name)"
   ]
  },
  {
   "cell_type": "code",
   "execution_count": 16,
   "metadata": {},
   "outputs": [
    {
     "name": "stdout",
     "output_type": "stream",
     "text": [
      "<h1>Hello Nutanix!</h1>\n"
     ]
    }
   ],
   "source": [
    "print(greet(\"Nutanix\"))"
   ]
  },
  {
   "cell_type": "code",
   "execution_count": 17,
   "metadata": {},
   "outputs": [],
   "source": [
    "# decorator that takes parameter\n",
    "\n",
    "def addH(num) :\n",
    "    def deco(fxn) :\n",
    "        # this is the decorator for a specific 'h'\n",
    "        def nf(param) :\n",
    "            return \"<h%s> \"%num + fxn(param) + \"</h%s>\"%num\n",
    "        return nf\n",
    "    return deco\n"
   ]
  },
  {
   "cell_type": "code",
   "execution_count": 22,
   "metadata": {},
   "outputs": [
    {
     "name": "stdout",
     "output_type": "stream",
     "text": [
      "<h3> Hello Nutanix! </h3>\n"
     ]
    }
   ],
   "source": [
    "@addH(3)\n",
    "def greet(name) :\n",
    "    return \"Hello {0}! \".format(name)\n",
    "\n",
    "print(greet(\"Nutanix\"))"
   ]
  },
  {
   "cell_type": "code",
   "execution_count": 23,
   "metadata": {},
   "outputs": [
    {
     "name": "stdout",
     "output_type": "stream",
     "text": [
      "<h2> <h4> Hello Nutanix! </h4></h2>\n"
     ]
    }
   ],
   "source": [
    "# we can have multiple decorators as well\n",
    "@addH(2)\n",
    "@addH(4)\n",
    "def greet2(name):\n",
    "    return \"Hello {0}! \".format(name)\n",
    "\n",
    "print(greet2(\"Nutanix\"))"
   ]
  },
  {
   "cell_type": "code",
   "execution_count": null,
   "metadata": {},
   "outputs": [],
   "source": []
  }
 ],
 "metadata": {
  "kernelspec": {
   "display_name": "Python 3",
   "language": "python",
   "name": "python3"
  },
  "language_info": {
   "codemirror_mode": {
    "name": "ipython",
    "version": 3
   },
   "file_extension": ".py",
   "mimetype": "text/x-python",
   "name": "python",
   "nbconvert_exporter": "python",
   "pygments_lexer": "ipython3",
   "version": "3.12.3"
  }
 },
 "nbformat": 4,
 "nbformat_minor": 2
}
