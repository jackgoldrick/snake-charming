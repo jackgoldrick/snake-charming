{
 "cells": [
  {
   "cell_type": "code",
   "execution_count": 3,
   "metadata": {},
   "outputs": [],
   "source": [
    "class C(object):\n",
    "    def __init__(self):\n",
    "        self._x = None\n",
    "\n",
    "    def get_X(self):\n",
    "        print(\"get_X\")\n",
    "        return self._x\n",
    "    \n",
    "    def set_X(self, value):\n",
    "        print(\"set_X\")\n",
    "        self._x = value\n",
    "    \n",
    "    def del_X(self):\n",
    "        print(\"del_X\")\n",
    "        del self._x\n",
    "    \n",
    "    x = property(get_X, set_X, del_X, \"I'm the 'x' property.\")\n",
    "\n"
   ]
  },
  {
   "cell_type": "code",
   "execution_count": 7,
   "metadata": {},
   "outputs": [
    {
     "name": "stdout",
     "output_type": "stream",
     "text": [
      "set_X\n",
      "get_X\n",
      "5\n",
      "del_X\n"
     ]
    }
   ],
   "source": [
    "c = C()\n",
    "\n",
    "c.x = 5\n",
    "\n",
    "print(c.x)\n",
    "\n",
    "del c.x"
   ]
  },
  {
   "cell_type": "code",
   "execution_count": 8,
   "metadata": {},
   "outputs": [],
   "source": [
    "class m(object):\n",
    "    def __init__(self):\n",
    "        self._x = None\n",
    "        \n",
    "    @property\n",
    "    def x(self):\n",
    "        print(\"get_x\")\n",
    "        return self._x\n",
    "    \n",
    "    @x.setter\n",
    "    def x(self, value):\n",
    "        print(\"set_x\")\n",
    "        self._x = value\n",
    "\n",
    "    @x.deleter\n",
    "    def x(self):\n",
    "        print(\"del_x\")\n",
    "        del self._x\n",
    "\n",
    "    "
   ]
  },
  {
   "cell_type": "code",
   "execution_count": 9,
   "metadata": {},
   "outputs": [],
   "source": [
    "m = C()"
   ]
  },
  {
   "cell_type": "code",
   "execution_count": null,
   "metadata": {},
   "outputs": [],
   "source": []
  }
 ],
 "metadata": {
  "kernelspec": {
   "display_name": "Python 3",
   "language": "python",
   "name": "python3"
  },
  "language_info": {
   "codemirror_mode": {
    "name": "ipython",
    "version": 3
   },
   "file_extension": ".py",
   "mimetype": "text/x-python",
   "name": "python",
   "nbconvert_exporter": "python",
   "pygments_lexer": "ipython3",
   "version": "3.12.3"
  }
 },
 "nbformat": 4,
 "nbformat_minor": 2
}
