{
 "cells": [
  {
   "cell_type": "code",
   "execution_count": 3,
   "metadata": {},
   "outputs": [],
   "source": [
    "class A(object):\n",
    "    def __init__(self):\n",
    "        print(\"A.init\")\n",
    "    def foo(self):\n",
    "        print(\"A.foo\")\n",
    "\n",
    "class B(A):\n",
    "    def __init__(self):\n",
    "        print(\"B.init\")\n",
    "    def foo(self):\n",
    "        print(\"B.foo\")\n",
    "\n",
    "class C(A):\n",
    "    def __init__(self):\n",
    "        print(\"C.init\")\n",
    "    def foo(self):\n",
    "        print(\"C.foo\")\n",
    "\n",
    "class D(B, C):\n",
    "    def __init__(self):\n",
    "        print(\"D.init\")\n",
    "\n",
    "class E(C, B):\n",
    "    def __init__(self):\n",
    "        print(\"E.init\")\n",
    "  \n"
   ]
  },
  {
   "cell_type": "code",
   "execution_count": 4,
   "metadata": {},
   "outputs": [
    {
     "name": "stdout",
     "output_type": "stream",
     "text": [
      "D.init\n",
      "B.foo\n",
      "E.init\n",
      "C.foo\n"
     ]
    }
   ],
   "source": [
    "d = D()\n",
    "d.foo()\n",
    "\n",
    "e = E()\n",
    "e.foo()\n",
    "\n"
   ]
  },
  {
   "cell_type": "code",
   "execution_count": 11,
   "metadata": {},
   "outputs": [],
   "source": [
    "class A(object):\n",
    "    def __init__(self):\n",
    "        print(\"A.init\")\n",
    "    def foo(self):\n",
    "        print(\"A.foo\")\n",
    "\n",
    "class B(A):\n",
    "    def __init__(self):\n",
    "        print(\"B.init\")\n",
    "    def foo(self):\n",
    "        print(\"B.foo\")\n",
    "\n",
    "class C(A):\n",
    "    def __init__(self):\n",
    "        print(\"C.init\")\n",
    "    def foo(self):\n",
    "        print(\"C.foo\")\n",
    "\n",
    "class D(C):\n",
    "    def __init__(self):\n",
    "        print(\"D.init\")\n",
    "    def foo(self):\n",
    "        print(\"D.foo\")\n",
    "\n",
    "class E(D, C):\n",
    "    def __init__(self):\n",
    "        print(\"E.init\")\n",
    "    \n"
   ]
  },
  {
   "cell_type": "code",
   "execution_count": 12,
   "metadata": {},
   "outputs": [
    {
     "name": "stdout",
     "output_type": "stream",
     "text": [
      "E.init\n",
      "D.foo\n"
     ]
    },
    {
     "data": {
      "text/plain": [
       "(__main__.E, __main__.D, __main__.C, __main__.A, object)"
      ]
     },
     "execution_count": 12,
     "metadata": {},
     "output_type": "execute_result"
    }
   ],
   "source": [
    "e = E()\n",
    "e.foo()\n",
    "E.__mro__"
   ]
  },
  {
   "cell_type": "code",
   "execution_count": null,
   "metadata": {},
   "outputs": [],
   "source": []
  }
 ],
 "metadata": {
  "kernelspec": {
   "display_name": "Python 3",
   "language": "python",
   "name": "python3"
  },
  "language_info": {
   "codemirror_mode": {
    "name": "ipython",
    "version": 3
   },
   "file_extension": ".py",
   "mimetype": "text/x-python",
   "name": "python",
   "nbconvert_exporter": "python",
   "pygments_lexer": "ipython3",
   "version": "3.12.3"
  }
 },
 "nbformat": 4,
 "nbformat_minor": 2
}
