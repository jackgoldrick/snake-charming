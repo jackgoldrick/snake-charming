{
 "cells": [
  {
   "cell_type": "code",
   "execution_count": 1,
   "metadata": {},
   "outputs": [],
   "source": [
    "class A(object):\n",
    "    def __init__(self, x):\n",
    "        self.x = x\n",
    "    def __getattr__(self, val) :\n",
    "        print(\"getattr val :\", val, type(val))\n",
    "        return val\n",
    "    \n"
   ]
  },
  {
   "cell_type": "code",
   "execution_count": 2,
   "metadata": {},
   "outputs": [
    {
     "name": "stdout",
     "output_type": "stream",
     "text": [
      "X : 3\n",
      "getattr val : y <class 'str'>\n",
      "Y : y\n"
     ]
    }
   ],
   "source": [
    "a = A(3)\n",
    "print(\"X :\", a.x)\n",
    "ret = a.y\n",
    "\n",
    "print(\"Y :\", ret)\n"
   ]
  },
  {
   "cell_type": "code",
   "execution_count": 3,
   "metadata": {},
   "outputs": [],
   "source": [
    "class settings :\n",
    "    pass\n",
    "try :\n",
    "    foo = settings.FOO\n",
    "except AttributeError:\n",
    "    foo = None"
   ]
  },
  {
   "cell_type": "markdown",
   "metadata": {},
   "source": [
    "This above code can be replaced by foo = getattr(settings, 'FOO', None)"
   ]
  },
  {
   "cell_type": "code",
   "execution_count": 4,
   "metadata": {},
   "outputs": [],
   "source": [
    "class A(object):\n",
    "    def __init__(self, x):\n",
    "        self.x = x\n",
    "    def __getattr__(self, val) :\n",
    "        print(\"getattr val :\", val, type(val))\n",
    "        return val\n",
    "    def __setattr__(self, name, val):\n",
    "        print(\"setattr name :\", name, type(name))\n",
    "        print(\"setattr val :\", val, type(val))\n",
    "        object.__setattr__(self, name, val)\n",
    "        if name == 'x':\n",
    "            self.__dict__[name] = val\n",
    "            \n",
    "        \n",
    "    "
   ]
  },
  {
   "cell_type": "code",
   "execution_count": 5,
   "metadata": {},
   "outputs": [
    {
     "name": "stdout",
     "output_type": "stream",
     "text": [
      "setattr name : x <class 'str'>\n",
      "setattr val : 3 <class 'int'>\n",
      "3\n",
      "getattr val : y <class 'str'>\n",
      "y\n",
      "setattr name : y <class 'str'>\n",
      "setattr val : 5 <class 'int'>\n",
      "setattr name : x <class 'str'>\n",
      "setattr val : 6 <class 'int'>\n"
     ]
    }
   ],
   "source": [
    "a = A(3)\n",
    "print(a.x)\n",
    "print(a.y)\n",
    "\n",
    "# invokes __setattr__\n",
    "a.y = 5\n",
    "a.x = 6\n"
   ]
  }
 ],
 "metadata": {
  "kernelspec": {
   "display_name": "Python 3",
   "language": "python",
   "name": "python3"
  },
  "language_info": {
   "codemirror_mode": {
    "name": "ipython",
    "version": 3
   },
   "file_extension": ".py",
   "mimetype": "text/x-python",
   "name": "python",
   "nbconvert_exporter": "python",
   "pygments_lexer": "ipython3",
   "version": "3.12.3"
  }
 },
 "nbformat": 4,
 "nbformat_minor": 2
}
