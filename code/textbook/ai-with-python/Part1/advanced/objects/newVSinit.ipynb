{
 "cells": [
  {
   "cell_type": "code",
   "execution_count": 1,
   "metadata": {},
   "outputs": [],
   "source": [
    "class X(object):\n",
    "    def __new__(cls, *args, **kwargs):\n",
    "        print(\"new\")\n",
    "        print(args, kwargs)\n",
    "        return object.__new__(cls)\n",
    "\n",
    "    def __init__(self, *args, **kwargs):\n",
    "        print(\"init\")\n",
    "        print(args, kwargs)"
   ]
  },
  {
   "cell_type": "code",
   "execution_count": 2,
   "metadata": {},
   "outputs": [
    {
     "name": "stdout",
     "output_type": "stream",
     "text": [
      "new\n",
      "(1, 2, 3) {'a': 4}\n",
      "init\n",
      "(1, 2, 3) {'a': 4}\n"
     ]
    }
   ],
   "source": [
    "\n",
    "x = X(1,2,3,a=4)"
   ]
  },
  {
   "cell_type": "code",
   "execution_count": 4,
   "metadata": {},
   "outputs": [],
   "source": [
    "class windowsVM(object):\n",
    "    def __init__(self, state=\"off\"):\n",
    "        print(\"New windows vm. state : %s\" %state)\n",
    "    def operation(self):\n",
    "        print(\"windows operations\")\n",
    "\n",
    "class linuxVM(object):\n",
    "    def __init__(self, state=\"off\"):\n",
    "        print(\"New Linux vm. state : %s\" %state)\n",
    "    def operation(self):\n",
    "        print(\"Linux operations\")\n",
    "    \n",
    "class VM(object):\n",
    "    MAP = {\"Linux\" : linuxVM, \"Windows\": windowsVM}\n",
    "\n",
    "    def __new__(self, vmType, state=\"off\"):\n",
    "        # return object.__new__ (VM.MAP[vmType]) \n",
    "        vm = object.__new__ (VM.MAP[vmType]) \n",
    "        vm.__init__(state)\n",
    "        return vm"
   ]
  },
  {
   "cell_type": "code",
   "execution_count": null,
   "metadata": {},
   "outputs": [],
   "source": []
  }
 ],
 "metadata": {
  "kernelspec": {
   "display_name": "Python 3",
   "language": "python",
   "name": "python3"
  },
  "language_info": {
   "codemirror_mode": {
    "name": "ipython",
    "version": 3
   },
   "file_extension": ".py",
   "mimetype": "text/x-python",
   "name": "python",
   "nbconvert_exporter": "python",
   "pygments_lexer": "ipython3",
   "version": "3.12.3"
  }
 },
 "nbformat": 4,
 "nbformat_minor": 2
}
