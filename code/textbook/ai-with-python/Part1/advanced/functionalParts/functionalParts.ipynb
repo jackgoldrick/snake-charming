{
 "cells": [
  {
   "cell_type": "code",
   "execution_count": 1,
   "metadata": {},
   "outputs": [],
   "source": [
    "# lambda is used when you need anonymous functions defined as an expression\n",
    "# in this example you could define a function and pass it to foo, or use the lambda\n",
    "# in this case the lambda is neater\n",
    "# lambdas can take in n number of parameters, and the body is a single expression that is also thee return value\n",
    "\n",
    "def foo(list_, func) :\n",
    "    l = []\n",
    "    for i in list_:\n",
    "        l.append(func(i))\n",
    "    return l\n",
    "\n",
    "def sq(i) :\n",
    "    return i ** 2\n"
   ]
  },
  {
   "cell_type": "code",
   "execution_count": 2,
   "metadata": {},
   "outputs": [
    {
     "name": "stdout",
     "output_type": "stream",
     "text": [
      "[0, 1, 4, 9, 16]\n",
      "[0, 1, 4, 9, 16]\n"
     ]
    }
   ],
   "source": [
    "l = [i for i in range(5)]\n",
    "print(foo(l, sq))\n",
    "print(foo(l, lambda x : x**2))\n"
   ]
  },
  {
   "cell_type": "code",
   "execution_count": 5,
   "metadata": {},
   "outputs": [],
   "source": [
    "class P(object):\n",
    "    def __init__(self, x, y):\n",
    "        self.x = x\n",
    "        self.y = y\n",
    "    def __str__(self) :\n",
    "        return \"x : %s\" % self.x\n",
    "    \n",
    "    "
   ]
  },
  {
   "cell_type": "code",
   "execution_count": 7,
   "metadata": {},
   "outputs": [
    {
     "name": "stdout",
     "output_type": "stream",
     "text": [
      "<filter object at 0x000001D1F9E25C30> <class 'filter'>\n"
     ]
    }
   ],
   "source": [
    "# and returns a list with elements for which 'ret' was true\n",
    "\n",
    "l = range(0, 10)\n",
    "l = filter(lambda x : x%2==0, l)\n",
    "print(l, type(l))\n"
   ]
  },
  {
   "cell_type": "code",
   "execution_count": null,
   "metadata": {},
   "outputs": [],
   "source": []
  }
 ],
 "metadata": {
  "kernelspec": {
   "display_name": "Python 3",
   "language": "python",
   "name": "python3"
  },
  "language_info": {
   "codemirror_mode": {
    "name": "ipython",
    "version": 3
   },
   "file_extension": ".py",
   "mimetype": "text/x-python",
   "name": "python",
   "nbconvert_exporter": "python",
   "pygments_lexer": "ipython3",
   "version": "3.12.3"
  }
 },
 "nbformat": 4,
 "nbformat_minor": 2
}
