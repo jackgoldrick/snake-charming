{
 "cells": [
  {
   "cell_type": "code",
   "execution_count": 1,
   "metadata": {},
   "outputs": [],
   "source": [
    "class P(object):\n",
    "    def __init__(self, x, y):\n",
    "        self.x = x\n",
    "        self.y = y\n",
    "    def __add__(self, other):\n",
    "        return P(self.x + other.x, self.y + other.y)\n",
    "    def __gt__(self, other):\n",
    "        # if both x and y component are greater \n",
    "        # than the other object's x AND y\n",
    "        return self.x > other.x and self.y > other.y\n",
    "    def __str__(self) :\n",
    "        return \"x : %s, y : %s\" % (self.x, self.y)\n"
   ]
  },
  {
   "cell_type": "code",
   "execution_count": 11,
   "metadata": {},
   "outputs": [],
   "source": [
    "class Seq(object):\n",
    "    def __getitem__(self, i):\n",
    "\n",
    "        if type(i) is slice :\n",
    "            # if i is a slice, return a new Seq object\n",
    "            return list(range(i.start, i.stop))\n",
    "        else :\n",
    "            return i\n",
    "    \n",
    "\n",
    "    "
   ]
  },
  {
   "cell_type": "code",
   "execution_count": 2,
   "metadata": {},
   "outputs": [],
   "source": [
    "p1 = P(0,0)\n",
    "p2 = P(3,4)\n",
    "p3 = P(1, 3)"
   ]
  },
  {
   "cell_type": "code",
   "execution_count": 10,
   "metadata": {},
   "outputs": [
    {
     "name": "stdout",
     "output_type": "stream",
     "text": [
      "x : 4, y : 7\n",
      "False\n",
      "True\n"
     ]
    }
   ],
   "source": [
    "print(p3 + p2)\n",
    "print(p1 > p2)\n",
    "print(p2 > p1)"
   ]
  },
  {
   "cell_type": "code",
   "execution_count": 12,
   "metadata": {},
   "outputs": [
    {
     "name": "stdout",
     "output_type": "stream",
     "text": [
      "5\n",
      "-4\n",
      "[2, 3, 4]\n"
     ]
    }
   ],
   "source": [
    "s = Seq()\n",
    "print(s[5])\n",
    "print(s[-4])\n",
    "print(s[2:5])\n"
   ]
  }
 ],
 "metadata": {
  "kernelspec": {
   "display_name": "Python 3",
   "language": "python",
   "name": "python3"
  },
  "language_info": {
   "codemirror_mode": {
    "name": "ipython",
    "version": 3
   },
   "file_extension": ".py",
   "mimetype": "text/x-python",
   "name": "python",
   "nbconvert_exporter": "python",
   "pygments_lexer": "ipython3",
   "version": "3.12.3"
  }
 },
 "nbformat": 4,
 "nbformat_minor": 2
}
