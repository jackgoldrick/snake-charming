{
 "cells": [
  {
   "cell_type": "code",
   "execution_count": 2,
   "metadata": {},
   "outputs": [],
   "source": [
    "import random\n",
    "import numpy as np"
   ]
  },
  {
   "cell_type": "code",
   "execution_count": 1,
   "metadata": {},
   "outputs": [],
   "source": [
    "def generate_float_list(lwr, upr, num) :\n",
    "    \"\"\"\n",
    "    return a list of num random decimal floats ranged \n",
    "    between lwr and upr\n",
    "    \"\"\"\n",
    "    initList = random.sample(range(lwr, upr), num)\n",
    "    return [x/100 for x in initList]\n",
    "\n",
    "\n"
   ]
  },
  {
   "cell_type": "code",
   "execution_count": 21,
   "metadata": {},
   "outputs": [
    {
     "name": "stdout",
     "output_type": "stream",
     "text": [
      "[1.01 1.42 1.38 1.78 1.73 1.81 1.68 1.39 1.05 1.65]\n"
     ]
    }
   ],
   "source": [
    "# create two lists\n",
    "height = generate_float_list(100, 200, 10)\n",
    "npHeight = np.array(height)\n",
    "\n",
    "print(npHeight)"
   ]
  }
 ],
 "metadata": {
  "kernelspec": {
   "display_name": "Python 3",
   "language": "python",
   "name": "python3"
  },
  "language_info": {
   "codemirror_mode": {
    "name": "ipython",
    "version": 3
   },
   "file_extension": ".py",
   "mimetype": "text/x-python",
   "name": "python",
   "nbconvert_exporter": "python",
   "pygments_lexer": "ipython3",
   "version": "3.12.3"
  }
 },
 "nbformat": 4,
 "nbformat_minor": 2
}
