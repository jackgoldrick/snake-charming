{
 "cells": [
  {
   "cell_type": "code",
   "execution_count": 12,
   "metadata": {},
   "outputs": [],
   "source": [
    "# A demonstration of all the new class/object concepts\n",
    "\n",
    "class demoClass:\n",
    "    \"\"\"\n",
    "    A demonstration class with an _init_ function, and a\n",
    "    function that takes args and kwargs\n",
    "    \"\"\"\n",
    "    # A Class Constructor defined by __init__\n",
    "    def __init__(self, argument = None) :\n",
    "        \"\"\"\n",
    "        A function that is called automatically \n",
    "        when the class is initilized\n",
    "        \"\"\"\n",
    "        self.demo_variable  = \"Hello, World!\"\n",
    "        self.initial_variable = argument\n",
    "    \n",
    "    def demo_class(self, *args, **kwargs) :\n",
    "        \"\"\"\n",
    "        A demo that loops through any args and kwargs\n",
    "        provided and prints them.\n",
    "        \"\"\"\n",
    "        for i, a in enumerate(args) :\n",
    "            print(\"Arg {}: {}\".format(i+1, a))\n",
    "        for k, v in kwargs.items() :\n",
    "            print(\"{} - {}\".format(k, v))\n",
    "        if kwargs.get(self.initial_variable) :\n",
    "            print(self.demo_variable)\n",
    "            return True\n",
    "        \n",
    "\n",
    "        "
   ]
  },
  {
   "cell_type": "code",
   "execution_count": 13,
   "metadata": {},
   "outputs": [],
   "source": [
    "demo1 = demoClass()\n",
    "demo2 = demoClass(\"Jack\")\n",
    "\n"
   ]
  },
  {
   "cell_type": "code",
   "execution_count": 14,
   "metadata": {},
   "outputs": [
    {
     "name": "stdout",
     "output_type": "stream",
     "text": [
      "Hello, World! None\n",
      "Hello, World! Jack\n"
     ]
    }
   ],
   "source": [
    "# What was initilized in each demo object?\n",
    "print(demo1.demo_variable, demo1.initial_variable)\n",
    "print(demo2.demo_variable, demo2.initial_variable)"
   ]
  },
  {
   "cell_type": "code",
   "execution_count": 18,
   "metadata": {},
   "outputs": [
    {
     "name": "stdout",
     "output_type": "stream",
     "text": [
      "Arg 1: Alice\n",
      "Arg 2: Bob\n",
      "Arg 3: Carol\n",
      "Arg 4: Dave\n",
      "Alice - Physist\n",
      "Jack - Engineer\n",
      "Carol - Lawyer\n",
      "Dave - Doctor\n",
      "Hello, World!\n"
     ]
    },
    {
     "data": {
      "text/plain": [
       "True"
      ]
     },
     "execution_count": 18,
     "metadata": {},
     "output_type": "execute_result"
    }
   ],
   "source": [
    "# A demo of passing arguments \n",
    "args = [\"Alice\", \"Bob\", \"Carol\", \"Dave\"]\n",
    "kwargs = {\"Alice\": \"Physicist\",\n",
    "          \"Jack\": \"Engineer\",\n",
    "          \"Carol\": \"Lawyer\", \n",
    "          \"Dave\": \"Doctor\"\n",
    "        }\n",
    "demo2.demo_class(*args, **kwargs)"
   ]
  }
 ],
 "metadata": {
  "kernelspec": {
   "display_name": "Python 3",
   "language": "python",
   "name": "python3"
  },
  "language_info": {
   "codemirror_mode": {
    "name": "ipython",
    "version": 3
   },
   "file_extension": ".py",
   "mimetype": "text/x-python",
   "name": "python",
   "nbconvert_exporter": "python",
   "pygments_lexer": "ipython3",
   "version": "3.12.3"
  }
 },
 "nbformat": 4,
 "nbformat_minor": 2
}
