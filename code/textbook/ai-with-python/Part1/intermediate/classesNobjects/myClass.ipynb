{
 "cells": [
  {
   "cell_type": "code",
   "execution_count": 5,
   "metadata": {},
   "outputs": [],
   "source": [
    "class myClass:\n",
    "    \"\"\"\n",
    "    A demonstration Class\n",
    "    \"\"\"\n",
    "\n",
    "    myVar = \"Crikey, a wild Variable!\"\n",
    "\n",
    "\n",
    "    def myFunction(self):\n",
    "        \"\"\"\n",
    "        A demonstration Class Function\n",
    "        \"\"\"\n",
    "        return \"I'm a function!\"\n",
    "    "
   ]
  },
  {
   "cell_type": "code",
   "execution_count": 3,
   "metadata": {},
   "outputs": [
    {
     "name": "stdout",
     "output_type": "stream",
     "text": [
      "Crikey, a wild Variable!\n",
      "I'm a function!\n"
     ]
    }
   ],
   "source": [
    "new_class = myClass()\n",
    "\n",
    "print(new_class.myVar)\n",
    "\n",
    "print(new_class.myFunction())"
   ]
  },
  {
   "cell_type": "code",
   "execution_count": 6,
   "metadata": {},
   "outputs": [
    {
     "name": "stdout",
     "output_type": "stream",
     "text": [
      "\n",
      "    A demonstration Class\n",
      "    \n",
      "\n",
      "        A demonstration Class Function\n",
      "        \n"
     ]
    }
   ],
   "source": [
    "print(myClass.__doc__)\n",
    "print(myClass.myFunction.__doc__)"
   ]
  }
 ],
 "metadata": {
  "kernelspec": {
   "display_name": "Python 3",
   "language": "python",
   "name": "python3"
  },
  "language_info": {
   "codemirror_mode": {
    "name": "ipython",
    "version": 3
   },
   "file_extension": ".py",
   "mimetype": "text/x-python",
   "name": "python",
   "nbconvert_exporter": "python",
   "pygments_lexer": "ipython3",
   "version": "3.12.3"
  }
 },
 "nbformat": 4,
 "nbformat_minor": 2
}
