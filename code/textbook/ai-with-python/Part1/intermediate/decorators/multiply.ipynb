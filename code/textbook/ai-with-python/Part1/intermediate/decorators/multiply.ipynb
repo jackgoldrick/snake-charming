{
 "cells": [
  {
   "cell_type": "code",
   "execution_count": 1,
   "metadata": {},
   "outputs": [],
   "source": [
    "def multiply(multiplier) :\n",
    "    \"\"\"\n",
    "    Using the multiplier argument, modify the old\n",
    "    function to return multiplier *  old_function\n",
    "    \"\"\"\n",
    "    def multiplyGenerator(old_function) : \n",
    "        def new_function(*args, **kwargs) :\n",
    "            return multiplier * old_function(*args, **kwargs)\n",
    "        return new_function\n",
    "    return multiplyGenerator\n",
    "\n",
    "@multiply(5)\n",
    "def returnNum(num) :\n",
    "    return num\n"
   ]
  },
  {
   "cell_type": "code",
   "execution_count": 2,
   "metadata": {},
   "outputs": [
    {
     "data": {
      "text/plain": [
       "15"
      ]
     },
     "execution_count": 2,
     "metadata": {},
     "output_type": "execute_result"
    }
   ],
   "source": [
    "returnNum(3)"
   ]
  }
 ],
 "metadata": {
  "kernelspec": {
   "display_name": "Python 3",
   "language": "python",
   "name": "python3"
  },
  "language_info": {
   "codemirror_mode": {
    "name": "ipython",
    "version": 3
   },
   "file_extension": ".py",
   "mimetype": "text/x-python",
   "name": "python",
   "nbconvert_exporter": "python",
   "pygments_lexer": "ipython3",
   "version": "3.12.3"
  }
 },
 "nbformat": 4,
 "nbformat_minor": 2
}
