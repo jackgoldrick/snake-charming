{
 "cells": [
  {
   "cell_type": "code",
   "execution_count": 7,
   "metadata": {},
   "outputs": [],
   "source": [
    "def repeater(old_function) :\n",
    "    \"\"\"\n",
    "    A closure for any function which, passed as 'old_function'\n",
    "    returns 'new_function'\n",
    "    \"\"\"\n",
    "    def new_function(*args, **kwargs) :\n",
    "        \"\"\"\n",
    "        A demo function which repeats any function in the\n",
    "        outer scope\n",
    "        \"\"\"\n",
    "        old_function(*args, **kwargs)\n",
    "        old_function(*args, **kwargs)\n",
    "    return new_function"
   ]
  },
  {
   "cell_type": "code",
   "execution_count": 8,
   "metadata": {},
   "outputs": [],
   "source": [
    "# We user 'repeater' as a decorator like this\n",
    "@repeater\n",
    "def multiply(num1, num2) :\n",
    "    print(num1 * num2)\n"
   ]
  },
  {
   "cell_type": "code",
   "execution_count": 9,
   "metadata": {},
   "outputs": [
    {
     "name": "stdout",
     "output_type": "stream",
     "text": [
      "42\n",
      "42\n"
     ]
    }
   ],
   "source": [
    "multiply(6,7)\n"
   ]
  }
 ],
 "metadata": {
  "kernelspec": {
   "display_name": "Python 3",
   "language": "python",
   "name": "python3"
  },
  "language_info": {
   "codemirror_mode": {
    "name": "ipython",
    "version": 3
   },
   "file_extension": ".py",
   "mimetype": "text/x-python",
   "name": "python",
   "nbconvert_exporter": "python",
   "pygments_lexer": "ipython3",
   "version": "3.12.3"
  }
 },
 "nbformat": 4,
 "nbformat_minor": 2
}
