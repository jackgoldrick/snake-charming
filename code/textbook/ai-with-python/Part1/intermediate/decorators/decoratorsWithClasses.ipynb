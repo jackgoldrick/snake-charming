{
 "cells": [
  {
   "cell_type": "code",
   "execution_count": 1,
   "metadata": {},
   "outputs": [],
   "source": [
    "class zeroArgError(Exception):\n",
    "    # class definitions cannot be empty, \n",
    "    # but if you for some reason have a class \n",
    "    # definition with no content, put in the \n",
    "    # pass statement to avoid getting an error.\n",
    "    pass\n",
    "\n",
    "\n"
   ]
  },
  {
   "cell_type": "code",
   "execution_count": 4,
   "metadata": {},
   "outputs": [],
   "source": [
    "def checkZero(old_function) :\n",
    "    \"\"\"\n",
    "    Check the argument passed to a function\n",
    "    to ensure it is not zero\n",
    "    \"\"\"\n",
    "    def newFunction(arg) :\n",
    "        if arg == 0 :\n",
    "            raise zeroArgError (\"Zero is passed tp argument\")\n",
    "        old_function(arg)\n",
    "\n",
    "    return newFunction\n",
    "\n",
    "@checkZero\n",
    "def printNum(num) :\n",
    "    print(num)\n"
   ]
  },
  {
   "cell_type": "code",
   "execution_count": 5,
   "metadata": {},
   "outputs": [
    {
     "ename": "zeroArgError",
     "evalue": "Zero is passed tp argument",
     "output_type": "error",
     "traceback": [
      "\u001b[1;31m---------------------------------------------------------------------------\u001b[0m",
      "\u001b[1;31mzeroArgError\u001b[0m                              Traceback (most recent call last)",
      "Cell \u001b[1;32mIn[5], line 1\u001b[0m\n\u001b[1;32m----> 1\u001b[0m \u001b[43mprintNum\u001b[49m\u001b[43m(\u001b[49m\u001b[38;5;241;43m0\u001b[39;49m\u001b[43m)\u001b[49m\n",
      "Cell \u001b[1;32mIn[4], line 8\u001b[0m, in \u001b[0;36mcheckZero.<locals>.newFunction\u001b[1;34m(arg)\u001b[0m\n\u001b[0;32m      6\u001b[0m \u001b[38;5;28;01mdef\u001b[39;00m \u001b[38;5;21mnewFunction\u001b[39m(arg) :\n\u001b[0;32m      7\u001b[0m     \u001b[38;5;28;01mif\u001b[39;00m arg \u001b[38;5;241m==\u001b[39m \u001b[38;5;241m0\u001b[39m :\n\u001b[1;32m----> 8\u001b[0m         \u001b[38;5;28;01mraise\u001b[39;00m zeroArgError (\u001b[38;5;124m\"\u001b[39m\u001b[38;5;124mZero is passed tp argument\u001b[39m\u001b[38;5;124m\"\u001b[39m)\n\u001b[0;32m      9\u001b[0m     old_function(arg)\n",
      "\u001b[1;31mzeroArgError\u001b[0m: Zero is passed tp argument"
     ]
    }
   ],
   "source": [
    "printNum(0)"
   ]
  }
 ],
 "metadata": {
  "kernelspec": {
   "display_name": "Python 3",
   "language": "python",
   "name": "python3"
  },
  "language_info": {
   "codemirror_mode": {
    "name": "ipython",
    "version": 3
   },
   "file_extension": ".py",
   "mimetype": "text/x-python",
   "name": "python",
   "nbconvert_exporter": "python",
   "pygments_lexer": "ipython3",
   "version": "3.12.3"
  }
 },
 "nbformat": 4,
 "nbformat_minor": 2
}
