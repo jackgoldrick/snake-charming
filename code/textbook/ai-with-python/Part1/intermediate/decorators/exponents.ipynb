{
 "cells": [
  {
   "cell_type": "code",
   "execution_count": 2,
   "metadata": {},
   "outputs": [],
   "source": [
    "def exponentOut(old_function) :\n",
    "    \"\"\"\n",
    "    This modification works on any combination of args and kwargs\n",
    "    \"\"\"\n",
    "    def new_function(*args, **kwargs) :\n",
    "        return old_function(*args, **kwargs) ** 2\n",
    "    return new_function\n"
   ]
  },
  {
   "cell_type": "code",
   "execution_count": 3,
   "metadata": {},
   "outputs": [],
   "source": [
    "def  exponentIn(old_function) : \n",
    "    \"\"\"\n",
    "    This modification only works if we have one Argument\n",
    "    \"\"\"\n",
    "    def new_function(arg) :\n",
    "        return old_function(arg ** 2)\n",
    "    return new_function"
   ]
  },
  {
   "cell_type": "code",
   "execution_count": 4,
   "metadata": {},
   "outputs": [],
   "source": [
    "@exponentOut\n",
    "def multiply(num1, num2) :\n",
    "    return num1 * num2\n",
    "\n",
    "@exponentIn\n",
    "def digit(num) :\n",
    "    return num\n"
   ]
  },
  {
   "cell_type": "code",
   "execution_count": 5,
   "metadata": {},
   "outputs": [
    {
     "name": "stdout",
     "output_type": "stream",
     "text": [
      "1764\n",
      "36\n"
     ]
    }
   ],
   "source": [
    "print(multiply(6, 7))\n",
    "\n",
    "print(digit(6))"
   ]
  },
  {
   "cell_type": "code",
   "execution_count": 6,
   "metadata": {},
   "outputs": [],
   "source": [
    "# And let's trigger an error\n",
    "@exponentIn\n",
    "def multiply(num1, num2) :\n",
    "    return num1 * num2"
   ]
  },
  {
   "cell_type": "code",
   "execution_count": 7,
   "metadata": {},
   "outputs": [
    {
     "ename": "TypeError",
     "evalue": "exponentIn.<locals>.new_function() takes 1 positional argument but 2 were given",
     "output_type": "error",
     "traceback": [
      "\u001b[1;31m---------------------------------------------------------------------------\u001b[0m",
      "\u001b[1;31mTypeError\u001b[0m                                 Traceback (most recent call last)",
      "Cell \u001b[1;32mIn[7], line 1\u001b[0m\n\u001b[1;32m----> 1\u001b[0m \u001b[38;5;28mprint\u001b[39m(\u001b[43mmultiply\u001b[49m\u001b[43m(\u001b[49m\u001b[38;5;241;43m2\u001b[39;49m\u001b[43m,\u001b[49m\u001b[38;5;241;43m3\u001b[39;49m\u001b[43m)\u001b[49m)\n",
      "\u001b[1;31mTypeError\u001b[0m: exponentIn.<locals>.new_function() takes 1 positional argument but 2 were given"
     ]
    }
   ],
   "source": [
    "print(multiply(2,3))"
   ]
  }
 ],
 "metadata": {
  "kernelspec": {
   "display_name": "Python 3",
   "language": "python",
   "name": "python3"
  },
  "language_info": {
   "codemirror_mode": {
    "name": "ipython",
    "version": 3
   },
   "file_extension": ".py",
   "mimetype": "text/x-python",
   "name": "python",
   "nbconvert_exporter": "python",
   "pygments_lexer": "ipython3",
   "version": "3.12.3"
  }
 },
 "nbformat": 4,
 "nbformat_minor": 2
}
