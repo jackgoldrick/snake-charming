{
 "cells": [
  {
   "cell_type": "code",
   "execution_count": 3,
   "metadata": {},
   "outputs": [],
   "source": [
    "def transmitToSpace(message):\n",
    "    \"\"\"\n",
    "    This is the enclosed function\n",
    "    \"\"\"\n",
    "    def dataTransmitter():\n",
    "        \"\"\"\n",
    "        The nested function\n",
    "        \"\"\"\n",
    "        print(message)\n",
    "\n",
    "    # Return an object of the nested function (i.e. without\n",
    "    # brackets)\n",
    "    return dataTransmitter\n",
    "    "
   ]
  },
  {
   "cell_type": "code",
   "execution_count": 5,
   "metadata": {},
   "outputs": [
    {
     "name": "stdout",
     "output_type": "stream",
     "text": [
      "Testing Testing 1 2 Testing\n"
     ]
    }
   ],
   "source": [
    "msg = transmitToSpace(\"Testing Testing 1 2 Testing\")\n",
    "msg()"
   ]
  }
 ],
 "metadata": {
  "kernelspec": {
   "display_name": "Python 3",
   "language": "python",
   "name": "python3"
  },
  "language_info": {
   "codemirror_mode": {
    "name": "ipython",
    "version": 3
   },
   "file_extension": ".py",
   "mimetype": "text/x-python",
   "name": "python",
   "nbconvert_exporter": "python",
   "pygments_lexer": "ipython3",
   "version": "3.12.3"
  }
 },
 "nbformat": 4,
 "nbformat_minor": 2
}
