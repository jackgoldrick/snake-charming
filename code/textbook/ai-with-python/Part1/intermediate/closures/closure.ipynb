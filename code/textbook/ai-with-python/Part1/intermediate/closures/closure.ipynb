{
 "cells": [
  {
   "cell_type": "code",
   "execution_count": 1,
   "metadata": {},
   "outputs": [],
   "source": [
    "def transmitToSpace(message):\n",
    "    \"\"\"\n",
    "    This is the enclosed function\n",
    "    \"\"\"\n",
    "    def dataTransmitter():\n",
    "        \"\"\"\n",
    "        The nested function\n",
    "        \"\"\"\n",
    "        print(message)\n",
    "    # Now the enclosing function calls the nested function\n",
    "    dataTransmitter()\n",
    "    "
   ]
  },
  {
   "cell_type": "code",
   "execution_count": 2,
   "metadata": {},
   "outputs": [
    {
     "name": "stdout",
     "output_type": "stream",
     "text": [
      "Testing Testing 1 2 Testing\n"
     ]
    }
   ],
   "source": [
    "transmitToSpace(\"Testing Testing 1 2 Testing\")"
   ]
  }
 ],
 "metadata": {
  "kernelspec": {
   "display_name": "Python 3",
   "language": "python",
   "name": "python3"
  },
  "language_info": {
   "codemirror_mode": {
    "name": "ipython",
    "version": 3
   },
   "file_extension": ".py",
   "mimetype": "text/x-python",
   "name": "python",
   "nbconvert_exporter": "python",
   "pygments_lexer": "ipython3",
   "version": "3.12.3"
  }
 },
 "nbformat": 4,
 "nbformat_minor": 2
}
