{
 "cells": [
  {
   "cell_type": "code",
   "execution_count": 204,
   "metadata": {},
   "outputs": [],
   "source": [
    "from keras import Input\n",
    "from keras import Sequential\n",
    "from keras.layers import Dense, Dropout\n",
    "from sklearn.metrics import classification_report, confusion_matrix\n",
    "from sklearn.model_selection import train_test_split\n",
    "from sklearn.metrics import mean_squared_error\n",
    "import numpy as np\n",
    "from sklearn import linear_model\n",
    "from sklearn import preprocessing\n",
    "from sklearn import tree\n",
    "from sklearn.ensemble import RandomForestRegressor, GradientBoostingRegressor\n",
    "from sklearn.ensemble import RandomForestClassifier, GradientBoostingClassifier\n",
    "from sklearn.datasets import make_classification\n",
    "import pandas as pd\n",
    "import csv\n"
   ]
  },
  {
   "cell_type": "code",
   "execution_count": 156,
   "metadata": {},
   "outputs": [
    {
     "name": "stdout",
     "output_type": "stream",
     "text": [
      "      A    B   C   D    E     F      G   H  I\n",
      "0     6  148  72  35    0  33.6  0.627  50  1\n",
      "1     1   85  66  29    0  26.6  0.351  31  0\n",
      "2     8  183  64   0    0  23.3  0.672  32  1\n",
      "3     1   89  66  23   94  28.1  0.167  21  0\n",
      "4     0  137  40  35  168  43.1  2.288  33  1\n",
      "..   ..  ...  ..  ..  ...   ...    ...  .. ..\n",
      "763  10  101  76  48  180  32.9  0.171  63  0\n",
      "764   2  122  70  27    0  36.8  0.340  27  0\n",
      "765   5  121  72  23  112  26.2  0.245  30  0\n",
      "766   1  126  60   0    0  30.1  0.349  47  1\n",
      "767   1   93  70  31    0  30.4  0.315  23  0\n",
      "\n",
      "[768 rows x 9 columns]\n",
      "                A           B           C           D           E           F  \\\n",
      "count  768.000000  768.000000  768.000000  768.000000  768.000000  768.000000   \n",
      "mean     3.845052  120.894531   69.105469   20.536458   79.799479   31.992578   \n",
      "std      3.369578   31.972618   19.355807   15.952218  115.244002    7.884160   \n",
      "min      0.000000    0.000000    0.000000    0.000000    0.000000    0.000000   \n",
      "25%      1.000000   99.000000   62.000000    0.000000    0.000000   27.300000   \n",
      "50%      3.000000  117.000000   72.000000   23.000000   30.500000   32.000000   \n",
      "75%      6.000000  140.250000   80.000000   32.000000  127.250000   36.600000   \n",
      "max     17.000000  199.000000  122.000000   99.000000  846.000000   67.100000   \n",
      "\n",
      "                G           H           I  \n",
      "count  768.000000  768.000000  768.000000  \n",
      "mean     0.471876   33.240885    0.348958  \n",
      "std      0.331329   11.760232    0.476951  \n",
      "min      0.078000   21.000000    0.000000  \n",
      "25%      0.243750   24.000000    0.000000  \n",
      "50%      0.372500   29.000000    0.000000  \n",
      "75%      0.626250   41.000000    1.000000  \n",
      "max      2.420000   81.000000    1.000000  \n"
     ]
    }
   ],
   "source": [
    "Y_POS =   8\n",
    "\n",
    "# fix random seed for reproducibility\n",
    "\n",
    "np.random.seed(7)\n",
    "\n",
    "\n",
    "df = pd.read_csv('Diabetes (Edited).csv')\n",
    "print(df)\n",
    "print(df.describe())\n",
    "\n"
   ]
  },
  {
   "cell_type": "code",
   "execution_count": 157,
   "metadata": {},
   "outputs": [],
   "source": [
    "X = df.iloc[:,0:Y_POS]\n",
    "Y = df.iloc[:,Y_POS]\n",
    "\n",
    "# create thee models\n",
    "X_train, X_test, Y_train, Y_test = train_test_split(X, Y, test_size=0.4, random_state=2020)\n",
    "\n",
    "#scaling to around -2 to 2 (Z)\n",
    "scaler = preprocessing.StandardScaler().fit(X_train)\n",
    "scaled_X_train = scaler.transform(X_train)\n",
    "scaled_X_test = scaler.transform(X_test)"
   ]
  },
  {
   "cell_type": "code",
   "execution_count": 158,
   "metadata": {},
   "outputs": [],
   "source": [
    "def train_and_predict_using_model(model_name = \"\", model =None):\n",
    "    model.fit(scaled_X_train, Y_train)\n",
    "    Y_pred_train = model.predict(scaled_X_train)\n",
    "    cm_train = confusion_matrix(Y_train, Y_pred_train)\n",
    "    print(model_name)\n",
    "    print(\"====================================\")\n",
    "    print(\"Training Confusion Matrix: \")\n",
    "    print(cm_train)\n",
    "    acc_train = (cm_train[0,0] + cm_train[1,1]) / np.sum(np.sum(cm_train))\n",
    "    \n",
    "    print(\"Training Accuracy: %.2f%%\" % (acc_train*100))\n",
    "    print(\"====================================\")\n",
    "    \n",
    "    Y_pred = model.predict(scaled_X_test)\n",
    "    cm_test = confusion_matrix(Y_test, Y_pred)\n",
    "    print(\"Testing Confusion Matrix: \")\n",
    "    print(cm_test)\n",
    "    acc_test = (cm_test[0,0] + cm_test[1,1]) / np.sum(np.sum(cm_test))\n",
    "    \n",
    "    print(\"Testing Accuracy: %.2f%%\" % (acc_test*100))\n",
    "    print(\"====================================\")"
   ]
  },
  {
   "cell_type": "code",
   "execution_count": 159,
   "metadata": {},
   "outputs": [
    {
     "data": {
      "text/html": [
       "<style>#sk-container-id-3 {\n",
       "  /* Definition of color scheme common for light and dark mode */\n",
       "  --sklearn-color-text: black;\n",
       "  --sklearn-color-line: gray;\n",
       "  /* Definition of color scheme for unfitted estimators */\n",
       "  --sklearn-color-unfitted-level-0: #fff5e6;\n",
       "  --sklearn-color-unfitted-level-1: #f6e4d2;\n",
       "  --sklearn-color-unfitted-level-2: #ffe0b3;\n",
       "  --sklearn-color-unfitted-level-3: chocolate;\n",
       "  /* Definition of color scheme for fitted estimators */\n",
       "  --sklearn-color-fitted-level-0: #f0f8ff;\n",
       "  --sklearn-color-fitted-level-1: #d4ebff;\n",
       "  --sklearn-color-fitted-level-2: #b3dbfd;\n",
       "  --sklearn-color-fitted-level-3: cornflowerblue;\n",
       "\n",
       "  /* Specific color for light theme */\n",
       "  --sklearn-color-text-on-default-background: var(--sg-text-color, var(--theme-code-foreground, var(--jp-content-font-color1, black)));\n",
       "  --sklearn-color-background: var(--sg-background-color, var(--theme-background, var(--jp-layout-color0, white)));\n",
       "  --sklearn-color-border-box: var(--sg-text-color, var(--theme-code-foreground, var(--jp-content-font-color1, black)));\n",
       "  --sklearn-color-icon: #696969;\n",
       "\n",
       "  @media (prefers-color-scheme: dark) {\n",
       "    /* Redefinition of color scheme for dark theme */\n",
       "    --sklearn-color-text-on-default-background: var(--sg-text-color, var(--theme-code-foreground, var(--jp-content-font-color1, white)));\n",
       "    --sklearn-color-background: var(--sg-background-color, var(--theme-background, var(--jp-layout-color0, #111)));\n",
       "    --sklearn-color-border-box: var(--sg-text-color, var(--theme-code-foreground, var(--jp-content-font-color1, white)));\n",
       "    --sklearn-color-icon: #878787;\n",
       "  }\n",
       "}\n",
       "\n",
       "#sk-container-id-3 {\n",
       "  color: var(--sklearn-color-text);\n",
       "}\n",
       "\n",
       "#sk-container-id-3 pre {\n",
       "  padding: 0;\n",
       "}\n",
       "\n",
       "#sk-container-id-3 input.sk-hidden--visually {\n",
       "  border: 0;\n",
       "  clip: rect(1px 1px 1px 1px);\n",
       "  clip: rect(1px, 1px, 1px, 1px);\n",
       "  height: 1px;\n",
       "  margin: -1px;\n",
       "  overflow: hidden;\n",
       "  padding: 0;\n",
       "  position: absolute;\n",
       "  width: 1px;\n",
       "}\n",
       "\n",
       "#sk-container-id-3 div.sk-dashed-wrapped {\n",
       "  border: 1px dashed var(--sklearn-color-line);\n",
       "  margin: 0 0.4em 0.5em 0.4em;\n",
       "  box-sizing: border-box;\n",
       "  padding-bottom: 0.4em;\n",
       "  background-color: var(--sklearn-color-background);\n",
       "}\n",
       "\n",
       "#sk-container-id-3 div.sk-container {\n",
       "  /* jupyter's `normalize.less` sets `[hidden] { display: none; }`\n",
       "     but bootstrap.min.css set `[hidden] { display: none !important; }`\n",
       "     so we also need the `!important` here to be able to override the\n",
       "     default hidden behavior on the sphinx rendered scikit-learn.org.\n",
       "     See: https://github.com/scikit-learn/scikit-learn/issues/21755 */\n",
       "  display: inline-block !important;\n",
       "  position: relative;\n",
       "}\n",
       "\n",
       "#sk-container-id-3 div.sk-text-repr-fallback {\n",
       "  display: none;\n",
       "}\n",
       "\n",
       "div.sk-parallel-item,\n",
       "div.sk-serial,\n",
       "div.sk-item {\n",
       "  /* draw centered vertical line to link estimators */\n",
       "  background-image: linear-gradient(var(--sklearn-color-text-on-default-background), var(--sklearn-color-text-on-default-background));\n",
       "  background-size: 2px 100%;\n",
       "  background-repeat: no-repeat;\n",
       "  background-position: center center;\n",
       "}\n",
       "\n",
       "/* Parallel-specific style estimator block */\n",
       "\n",
       "#sk-container-id-3 div.sk-parallel-item::after {\n",
       "  content: \"\";\n",
       "  width: 100%;\n",
       "  border-bottom: 2px solid var(--sklearn-color-text-on-default-background);\n",
       "  flex-grow: 1;\n",
       "}\n",
       "\n",
       "#sk-container-id-3 div.sk-parallel {\n",
       "  display: flex;\n",
       "  align-items: stretch;\n",
       "  justify-content: center;\n",
       "  background-color: var(--sklearn-color-background);\n",
       "  position: relative;\n",
       "}\n",
       "\n",
       "#sk-container-id-3 div.sk-parallel-item {\n",
       "  display: flex;\n",
       "  flex-direction: column;\n",
       "}\n",
       "\n",
       "#sk-container-id-3 div.sk-parallel-item:first-child::after {\n",
       "  align-self: flex-end;\n",
       "  width: 50%;\n",
       "}\n",
       "\n",
       "#sk-container-id-3 div.sk-parallel-item:last-child::after {\n",
       "  align-self: flex-start;\n",
       "  width: 50%;\n",
       "}\n",
       "\n",
       "#sk-container-id-3 div.sk-parallel-item:only-child::after {\n",
       "  width: 0;\n",
       "}\n",
       "\n",
       "/* Serial-specific style estimator block */\n",
       "\n",
       "#sk-container-id-3 div.sk-serial {\n",
       "  display: flex;\n",
       "  flex-direction: column;\n",
       "  align-items: center;\n",
       "  background-color: var(--sklearn-color-background);\n",
       "  padding-right: 1em;\n",
       "  padding-left: 1em;\n",
       "}\n",
       "\n",
       "\n",
       "/* Toggleable style: style used for estimator/Pipeline/ColumnTransformer box that is\n",
       "clickable and can be expanded/collapsed.\n",
       "- Pipeline and ColumnTransformer use this feature and define the default style\n",
       "- Estimators will overwrite some part of the style using the `sk-estimator` class\n",
       "*/\n",
       "\n",
       "/* Pipeline and ColumnTransformer style (default) */\n",
       "\n",
       "#sk-container-id-3 div.sk-toggleable {\n",
       "  /* Default theme specific background. It is overwritten whether we have a\n",
       "  specific estimator or a Pipeline/ColumnTransformer */\n",
       "  background-color: var(--sklearn-color-background);\n",
       "}\n",
       "\n",
       "/* Toggleable label */\n",
       "#sk-container-id-3 label.sk-toggleable__label {\n",
       "  cursor: pointer;\n",
       "  display: block;\n",
       "  width: 100%;\n",
       "  margin-bottom: 0;\n",
       "  padding: 0.5em;\n",
       "  box-sizing: border-box;\n",
       "  text-align: center;\n",
       "}\n",
       "\n",
       "#sk-container-id-3 label.sk-toggleable__label-arrow:before {\n",
       "  /* Arrow on the left of the label */\n",
       "  content: \"▸\";\n",
       "  float: left;\n",
       "  margin-right: 0.25em;\n",
       "  color: var(--sklearn-color-icon);\n",
       "}\n",
       "\n",
       "#sk-container-id-3 label.sk-toggleable__label-arrow:hover:before {\n",
       "  color: var(--sklearn-color-text);\n",
       "}\n",
       "\n",
       "/* Toggleable content - dropdown */\n",
       "\n",
       "#sk-container-id-3 div.sk-toggleable__content {\n",
       "  max-height: 0;\n",
       "  max-width: 0;\n",
       "  overflow: hidden;\n",
       "  text-align: left;\n",
       "  /* unfitted */\n",
       "  background-color: var(--sklearn-color-unfitted-level-0);\n",
       "}\n",
       "\n",
       "#sk-container-id-3 div.sk-toggleable__content.fitted {\n",
       "  /* fitted */\n",
       "  background-color: var(--sklearn-color-fitted-level-0);\n",
       "}\n",
       "\n",
       "#sk-container-id-3 div.sk-toggleable__content pre {\n",
       "  margin: 0.2em;\n",
       "  border-radius: 0.25em;\n",
       "  color: var(--sklearn-color-text);\n",
       "  /* unfitted */\n",
       "  background-color: var(--sklearn-color-unfitted-level-0);\n",
       "}\n",
       "\n",
       "#sk-container-id-3 div.sk-toggleable__content.fitted pre {\n",
       "  /* unfitted */\n",
       "  background-color: var(--sklearn-color-fitted-level-0);\n",
       "}\n",
       "\n",
       "#sk-container-id-3 input.sk-toggleable__control:checked~div.sk-toggleable__content {\n",
       "  /* Expand drop-down */\n",
       "  max-height: 200px;\n",
       "  max-width: 100%;\n",
       "  overflow: auto;\n",
       "}\n",
       "\n",
       "#sk-container-id-3 input.sk-toggleable__control:checked~label.sk-toggleable__label-arrow:before {\n",
       "  content: \"▾\";\n",
       "}\n",
       "\n",
       "/* Pipeline/ColumnTransformer-specific style */\n",
       "\n",
       "#sk-container-id-3 div.sk-label input.sk-toggleable__control:checked~label.sk-toggleable__label {\n",
       "  color: var(--sklearn-color-text);\n",
       "  background-color: var(--sklearn-color-unfitted-level-2);\n",
       "}\n",
       "\n",
       "#sk-container-id-3 div.sk-label.fitted input.sk-toggleable__control:checked~label.sk-toggleable__label {\n",
       "  background-color: var(--sklearn-color-fitted-level-2);\n",
       "}\n",
       "\n",
       "/* Estimator-specific style */\n",
       "\n",
       "/* Colorize estimator box */\n",
       "#sk-container-id-3 div.sk-estimator input.sk-toggleable__control:checked~label.sk-toggleable__label {\n",
       "  /* unfitted */\n",
       "  background-color: var(--sklearn-color-unfitted-level-2);\n",
       "}\n",
       "\n",
       "#sk-container-id-3 div.sk-estimator.fitted input.sk-toggleable__control:checked~label.sk-toggleable__label {\n",
       "  /* fitted */\n",
       "  background-color: var(--sklearn-color-fitted-level-2);\n",
       "}\n",
       "\n",
       "#sk-container-id-3 div.sk-label label.sk-toggleable__label,\n",
       "#sk-container-id-3 div.sk-label label {\n",
       "  /* The background is the default theme color */\n",
       "  color: var(--sklearn-color-text-on-default-background);\n",
       "}\n",
       "\n",
       "/* On hover, darken the color of the background */\n",
       "#sk-container-id-3 div.sk-label:hover label.sk-toggleable__label {\n",
       "  color: var(--sklearn-color-text);\n",
       "  background-color: var(--sklearn-color-unfitted-level-2);\n",
       "}\n",
       "\n",
       "/* Label box, darken color on hover, fitted */\n",
       "#sk-container-id-3 div.sk-label.fitted:hover label.sk-toggleable__label.fitted {\n",
       "  color: var(--sklearn-color-text);\n",
       "  background-color: var(--sklearn-color-fitted-level-2);\n",
       "}\n",
       "\n",
       "/* Estimator label */\n",
       "\n",
       "#sk-container-id-3 div.sk-label label {\n",
       "  font-family: monospace;\n",
       "  font-weight: bold;\n",
       "  display: inline-block;\n",
       "  line-height: 1.2em;\n",
       "}\n",
       "\n",
       "#sk-container-id-3 div.sk-label-container {\n",
       "  text-align: center;\n",
       "}\n",
       "\n",
       "/* Estimator-specific */\n",
       "#sk-container-id-3 div.sk-estimator {\n",
       "  font-family: monospace;\n",
       "  border: 1px dotted var(--sklearn-color-border-box);\n",
       "  border-radius: 0.25em;\n",
       "  box-sizing: border-box;\n",
       "  margin-bottom: 0.5em;\n",
       "  /* unfitted */\n",
       "  background-color: var(--sklearn-color-unfitted-level-0);\n",
       "}\n",
       "\n",
       "#sk-container-id-3 div.sk-estimator.fitted {\n",
       "  /* fitted */\n",
       "  background-color: var(--sklearn-color-fitted-level-0);\n",
       "}\n",
       "\n",
       "/* on hover */\n",
       "#sk-container-id-3 div.sk-estimator:hover {\n",
       "  /* unfitted */\n",
       "  background-color: var(--sklearn-color-unfitted-level-2);\n",
       "}\n",
       "\n",
       "#sk-container-id-3 div.sk-estimator.fitted:hover {\n",
       "  /* fitted */\n",
       "  background-color: var(--sklearn-color-fitted-level-2);\n",
       "}\n",
       "\n",
       "/* Specification for estimator info (e.g. \"i\" and \"?\") */\n",
       "\n",
       "/* Common style for \"i\" and \"?\" */\n",
       "\n",
       ".sk-estimator-doc-link,\n",
       "a:link.sk-estimator-doc-link,\n",
       "a:visited.sk-estimator-doc-link {\n",
       "  float: right;\n",
       "  font-size: smaller;\n",
       "  line-height: 1em;\n",
       "  font-family: monospace;\n",
       "  background-color: var(--sklearn-color-background);\n",
       "  border-radius: 1em;\n",
       "  height: 1em;\n",
       "  width: 1em;\n",
       "  text-decoration: none !important;\n",
       "  margin-left: 1ex;\n",
       "  /* unfitted */\n",
       "  border: var(--sklearn-color-unfitted-level-1) 1pt solid;\n",
       "  color: var(--sklearn-color-unfitted-level-1);\n",
       "}\n",
       "\n",
       ".sk-estimator-doc-link.fitted,\n",
       "a:link.sk-estimator-doc-link.fitted,\n",
       "a:visited.sk-estimator-doc-link.fitted {\n",
       "  /* fitted */\n",
       "  border: var(--sklearn-color-fitted-level-1) 1pt solid;\n",
       "  color: var(--sklearn-color-fitted-level-1);\n",
       "}\n",
       "\n",
       "/* On hover */\n",
       "div.sk-estimator:hover .sk-estimator-doc-link:hover,\n",
       ".sk-estimator-doc-link:hover,\n",
       "div.sk-label-container:hover .sk-estimator-doc-link:hover,\n",
       ".sk-estimator-doc-link:hover {\n",
       "  /* unfitted */\n",
       "  background-color: var(--sklearn-color-unfitted-level-3);\n",
       "  color: var(--sklearn-color-background);\n",
       "  text-decoration: none;\n",
       "}\n",
       "\n",
       "div.sk-estimator.fitted:hover .sk-estimator-doc-link.fitted:hover,\n",
       ".sk-estimator-doc-link.fitted:hover,\n",
       "div.sk-label-container:hover .sk-estimator-doc-link.fitted:hover,\n",
       ".sk-estimator-doc-link.fitted:hover {\n",
       "  /* fitted */\n",
       "  background-color: var(--sklearn-color-fitted-level-3);\n",
       "  color: var(--sklearn-color-background);\n",
       "  text-decoration: none;\n",
       "}\n",
       "\n",
       "/* Span, style for the box shown on hovering the info icon */\n",
       ".sk-estimator-doc-link span {\n",
       "  display: none;\n",
       "  z-index: 9999;\n",
       "  position: relative;\n",
       "  font-weight: normal;\n",
       "  right: .2ex;\n",
       "  padding: .5ex;\n",
       "  margin: .5ex;\n",
       "  width: min-content;\n",
       "  min-width: 20ex;\n",
       "  max-width: 50ex;\n",
       "  color: var(--sklearn-color-text);\n",
       "  box-shadow: 2pt 2pt 4pt #999;\n",
       "  /* unfitted */\n",
       "  background: var(--sklearn-color-unfitted-level-0);\n",
       "  border: .5pt solid var(--sklearn-color-unfitted-level-3);\n",
       "}\n",
       "\n",
       ".sk-estimator-doc-link.fitted span {\n",
       "  /* fitted */\n",
       "  background: var(--sklearn-color-fitted-level-0);\n",
       "  border: var(--sklearn-color-fitted-level-3);\n",
       "}\n",
       "\n",
       ".sk-estimator-doc-link:hover span {\n",
       "  display: block;\n",
       "}\n",
       "\n",
       "/* \"?\"-specific style due to the `<a>` HTML tag */\n",
       "\n",
       "#sk-container-id-3 a.estimator_doc_link {\n",
       "  float: right;\n",
       "  font-size: 1rem;\n",
       "  line-height: 1em;\n",
       "  font-family: monospace;\n",
       "  background-color: var(--sklearn-color-background);\n",
       "  border-radius: 1rem;\n",
       "  height: 1rem;\n",
       "  width: 1rem;\n",
       "  text-decoration: none;\n",
       "  /* unfitted */\n",
       "  color: var(--sklearn-color-unfitted-level-1);\n",
       "  border: var(--sklearn-color-unfitted-level-1) 1pt solid;\n",
       "}\n",
       "\n",
       "#sk-container-id-3 a.estimator_doc_link.fitted {\n",
       "  /* fitted */\n",
       "  border: var(--sklearn-color-fitted-level-1) 1pt solid;\n",
       "  color: var(--sklearn-color-fitted-level-1);\n",
       "}\n",
       "\n",
       "/* On hover */\n",
       "#sk-container-id-3 a.estimator_doc_link:hover {\n",
       "  /* unfitted */\n",
       "  background-color: var(--sklearn-color-unfitted-level-3);\n",
       "  color: var(--sklearn-color-background);\n",
       "  text-decoration: none;\n",
       "}\n",
       "\n",
       "#sk-container-id-3 a.estimator_doc_link.fitted:hover {\n",
       "  /* fitted */\n",
       "  background-color: var(--sklearn-color-fitted-level-3);\n",
       "}\n",
       "</style><div id=\"sk-container-id-3\" class=\"sk-top-container\"><div class=\"sk-text-repr-fallback\"><pre>LogisticRegression(random_state=123)</pre><b>In a Jupyter environment, please rerun this cell to show the HTML representation or trust the notebook. <br />On GitHub, the HTML representation is unable to render, please try loading this page with nbviewer.org.</b></div><div class=\"sk-container\" hidden><div class=\"sk-item\"><div class=\"sk-estimator fitted sk-toggleable\"><input class=\"sk-toggleable__control sk-hidden--visually\" id=\"sk-estimator-id-3\" type=\"checkbox\" checked><label for=\"sk-estimator-id-3\" class=\"sk-toggleable__label fitted sk-toggleable__label-arrow fitted\">&nbsp;&nbsp;LogisticRegression<a class=\"sk-estimator-doc-link fitted\" rel=\"noreferrer\" target=\"_blank\" href=\"https://scikit-learn.org/1.5/modules/generated/sklearn.linear_model.LogisticRegression.html\">?<span>Documentation for LogisticRegression</span></a><span class=\"sk-estimator-doc-link fitted\">i<span>Fitted</span></span></label><div class=\"sk-toggleable__content fitted\"><pre>LogisticRegression(random_state=123)</pre></div> </div></div></div></div>"
      ],
      "text/plain": [
       "LogisticRegression(random_state=123)"
      ]
     },
     "execution_count": 159,
     "metadata": {},
     "output_type": "execute_result"
    }
   ],
   "source": [
    "linear_classifier = linear_model.LogisticRegression(random_state=123)\n",
    "linear_classifier.fit(scaled_X_train, Y_train)"
   ]
  },
  {
   "cell_type": "code",
   "execution_count": 160,
   "metadata": {},
   "outputs": [
    {
     "name": "stdout",
     "output_type": "stream",
     "text": [
      "Logistic Regression\n",
      "====================================\n",
      "Training Confusion Matrix: \n",
      "[[274  31]\n",
      " [ 62  93]]\n",
      "Training Accuracy: 79.78%\n",
      "====================================\n",
      "Testing Confusion Matrix: \n",
      "[[172  23]\n",
      " [ 53  60]]\n",
      "Testing Accuracy: 75.32%\n",
      "====================================\n"
     ]
    }
   ],
   "source": [
    "Y_pred_train1 = linear_classifier.predict(scaled_X_train)\n",
    "cm1_train = confusion_matrix(Y_train, Y_pred_train1)\n",
    "print(\"Logistic Regression\")\n",
    "print(\"====================================\")\n",
    "print(\"Training Confusion Matrix: \")\n",
    "print(cm1_train)\n",
    "acc1_train = (cm1_train[0,0] + cm1_train[1,1]) / np.sum(np.sum(cm1_train))\n",
    "\n",
    "print(\"Training Accuracy: %.2f%%\" % (acc1_train*100))\n",
    "print(\"====================================\")\n",
    "\n",
    "Y_pred1 = linear_classifier.predict(scaled_X_test)\n",
    "cm1_test = confusion_matrix(Y_test, Y_pred1)\n",
    "print(\"Testing Confusion Matrix: \")\n",
    "print(cm1_test)\n",
    "acc1_test = (cm1_test[0,0] + cm1_test[1,1]) / np.sum(np.sum(cm1_test))\n",
    "\n",
    "print(\"Testing Accuracy: %.2f%%\" % (acc1_test*100))\n",
    "print(\"====================================\")\n",
    "\n"
   ]
  },
  {
   "cell_type": "code",
   "execution_count": 161,
   "metadata": {},
   "outputs": [
    {
     "name": "stdout",
     "output_type": "stream",
     "text": [
      "Logistic Regression\n",
      "====================================\n",
      "Training Confusion Matrix: \n",
      "[[274  31]\n",
      " [ 62  93]]\n",
      "Training Accuracy: 79.78%\n",
      "====================================\n",
      "Testing Confusion Matrix: \n",
      "[[172  23]\n",
      " [ 53  60]]\n",
      "Testing Accuracy: 75.32%\n",
      "====================================\n"
     ]
    }
   ],
   "source": [
    "train_and_predict_using_model('Logistic Regression', linear_classifier)"
   ]
  },
  {
   "cell_type": "code",
   "execution_count": 162,
   "metadata": {},
   "outputs": [
    {
     "name": "stdout",
     "output_type": "stream",
     "text": [
      "Decision Tree\n",
      "====================================\n",
      "Training Confusion Matrix: \n",
      "[[305   0]\n",
      " [  0 155]]\n",
      "Training Accuracy: 100.00%\n",
      "====================================\n",
      "Testing Confusion Matrix: \n",
      "[[137  58]\n",
      " [ 55  58]]\n",
      "Testing Accuracy: 63.31%\n",
      "====================================\n"
     ]
    }
   ],
   "source": [
    "# Decision Tree and Random Forests\n",
    "decision_tree_clf = tree.DecisionTreeClassifier()\n",
    "train_and_predict_using_model('Decision Tree', decision_tree_clf)"
   ]
  },
  {
   "cell_type": "code",
   "execution_count": 163,
   "metadata": {},
   "outputs": [],
   "source": [
    "# Neural Network\n",
    "nn_model = Sequential()\n",
    "\n",
    "# Add an Input layer with shape (8,) nn_model.add(Dense(8, activation='relu')) nn_model.add(Input(shape=(8,))) nn_model.add(Dense(8)) \n",
    "\n",
    "nn_model.add(Input(shape=(8,))) \n",
    "\n",
    "# Add a Dense layer with 5 outputs and 'relu' activation function\n",
    "nn_model.add(Dense(5, activation='relu'))\n",
    "\n",
    "# Add a final Dense layer with 1 output and 'sigmoid' activation function\n",
    "nn_model.add(Dense(1, activation='sigmoid'))"
   ]
  },
  {
   "cell_type": "code",
   "execution_count": 164,
   "metadata": {},
   "outputs": [],
   "source": [
    "# Compile model\n",
    "nn_model.compile(loss='binary_crossentropy', optimizer='Adamax', metrics=['accuracy'])"
   ]
  },
  {
   "cell_type": "code",
   "execution_count": 165,
   "metadata": {},
   "outputs": [
    {
     "data": {
      "text/plain": [
       "<keras.src.callbacks.history.History at 0x1c983a13b00>"
      ]
     },
     "execution_count": 165,
     "metadata": {},
     "output_type": "execute_result"
    }
   ],
   "source": [
    "# Fit the Model\n",
    "\n",
    "nn_model.fit(scaled_X_train, Y_train, epochs=1, batch_size=20, verbose=0)\n"
   ]
  },
  {
   "cell_type": "code",
   "execution_count": 166,
   "metadata": {},
   "outputs": [
    {
     "name": "stdout",
     "output_type": "stream",
     "text": [
      "\u001b[1m15/15\u001b[0m \u001b[32m━━━━━━━━━━━━━━━━━━━━\u001b[0m\u001b[37m\u001b[0m \u001b[1m0s\u001b[0m 679us/step - accuracy: 0.6224 - loss: 0.7244\n",
      "Neural Network Trainset: \n",
      "compile_metrics: 61.52%\n",
      "\u001b[1m10/10\u001b[0m \u001b[32m━━━━━━━━━━━━━━━━━━━━\u001b[0m\u001b[37m\u001b[0m \u001b[1m0s\u001b[0m 3ms/step \n",
      "====================================\n",
      "====================================\n",
      "Neural Network Testset Confusion Matrix: \n",
      "[[120  75]\n",
      " [ 60  53]]\n",
      "Neural Network Testset Accuracy: 56.17%\n"
     ]
    }
   ],
   "source": [
    "#Evaluate the model\n",
    "scores = nn_model.evaluate(scaled_X_train, Y_train)\n",
    "\n",
    "print(\"Neural Network Trainset: \\n%s: %.2f%%\" % (nn_model.metrics_names[1], scores[1]*100))\n",
    "predictions = nn_model.predict(scaled_X_test)\n",
    "Y_pred = (predictions > 0.5)\n",
    "Y_pred = Y_pred*1\n",
    "cm = confusion_matrix(Y_test, Y_pred)\n",
    "print(\"====================================\")\n",
    "print(\"====================================\")\n",
    "print(\"Neural Network Testset Confusion Matrix: \")\n",
    "print(cm)\n",
    "\n",
    "acc = (cm[0,0] + cm[1,1]) / np.sum(np.sum(cm))\n",
    "print(\"Neural Network Testset Accuracy: %.2f%%\" % (acc*100))"
   ]
  },
  {
   "cell_type": "code",
   "execution_count": 167,
   "metadata": {},
   "outputs": [],
   "source": [
    "# Neural Network reWork\n",
    "model = Sequential()\n",
    "model.add(Input(shape=(Y_POS,)))\n",
    "model.add(Dense(10, activation='relu'))\n",
    "model.add(Dense(256, activation='relu'))\n",
    "model.add(Dropout(0.1))\n",
    "model.add(Dense(256, activation='tanh'))\n",
    "model.add(Dropout(0.1))\n",
    "model.add(Dense(1, activation='sigmoid'))"
   ]
  },
  {
   "cell_type": "code",
   "execution_count": 168,
   "metadata": {},
   "outputs": [],
   "source": [
    "# Compile model\n",
    "model.compile(loss='binary_crossentropy', optimizer='RMSprop', metrics=['accuracy'])"
   ]
  },
  {
   "cell_type": "code",
   "execution_count": 169,
   "metadata": {},
   "outputs": [
    {
     "data": {
      "text/plain": [
       "<keras.src.callbacks.history.History at 0x1c983b4bb30>"
      ]
     },
     "execution_count": 169,
     "metadata": {},
     "output_type": "execute_result"
    }
   ],
   "source": [
    "# Fit the Model\n",
    "model.fit(scaled_X_train, Y_train, epochs=200, batch_size=20, verbose=0)\n"
   ]
  },
  {
   "cell_type": "code",
   "execution_count": 170,
   "metadata": {},
   "outputs": [
    {
     "name": "stdout",
     "output_type": "stream",
     "text": [
      "\u001b[1m15/15\u001b[0m \u001b[32m━━━━━━━━━━━━━━━━━━━━\u001b[0m\u001b[37m\u001b[0m \u001b[1m0s\u001b[0m 822us/step - accuracy: 0.9974 - loss: 0.0146\n",
      "Neural Network Trainset: \n",
      "compile_metrics: 99.78%\n",
      "\u001b[1m10/10\u001b[0m \u001b[32m━━━━━━━━━━━━━━━━━━━━\u001b[0m\u001b[37m\u001b[0m \u001b[1m0s\u001b[0m 4ms/step \n",
      "====================================\n",
      "====================================\n",
      "Neural Network Testset Confusion Matrix: \n",
      "[[151  44]\n",
      " [ 51  62]]\n",
      "Neural Network Testset Accuracy: 69.16%\n"
     ]
    }
   ],
   "source": [
    "# Evaluate the Model \n",
    "\n",
    "scores = model.evaluate(scaled_X_train, Y_train)\n",
    "print(\"Neural Network Trainset: \\n%s: %.2f%%\" % (model.metrics_names[1], scores[1]*100))\n",
    "\n",
    "predictions = model.predict(scaled_X_test)\n",
    "Y_pred = (predictions > 0.5)\n",
    "Y_pred = Y_pred*1\n",
    "cm = confusion_matrix(Y_test, Y_pred)\n",
    "print(\"====================================\")\n",
    "print(\"====================================\")\n",
    "print(\"Neural Network Testset Confusion Matrix: \")\n",
    "print(cm)\n",
    "\n",
    "acc = (cm[0,0] + cm[1,1]) / np.sum(np.sum(cm))\n",
    "print(\"Neural Network Testset Accuracy: %.2f%%\" % (acc*100))"
   ]
  },
  {
   "cell_type": "code",
   "execution_count": 171,
   "metadata": {},
   "outputs": [
    {
     "name": "stdout",
     "output_type": "stream",
     "text": [
      "Random Forest Regressor\n",
      "============================================================\n",
      "Random Forest Test set: RMSE 0.1698386363636364\n"
     ]
    }
   ],
   "source": [
    "#model 3 Random Forest\n",
    "\n",
    "model3 = RandomForestRegressor()\n",
    "model3.fit(X_train, Y_train)\n",
    "print(\"Random Forest Regressor\")\n",
    "print(\"============================================================\")\n",
    "Y_pred = model3.predict(X_test)\n",
    "RMSE__test = mean_squared_error(Y_test, Y_pred)\n",
    "\n",
    "print(\"Random Forest Test set: RMSE {}\".format(RMSE__test))"
   ]
  },
  {
   "cell_type": "code",
   "execution_count": 172,
   "metadata": {},
   "outputs": [],
   "source": [
    "importances = model3.feature_importances_\n",
    "\n",
    "std = np.std([tree.feature_importances_ for tree in model3.estimators_], axis=0)\n",
    "\n",
    "indices = np.argsort(importances)[::-1]\n",
    "\n"
   ]
  },
  {
   "cell_type": "markdown",
   "metadata": {},
   "source": [
    "Chapter 11.8 Top 3 Features\n"
   ]
  },
  {
   "cell_type": "code",
   "execution_count": 192,
   "metadata": {},
   "outputs": [],
   "source": [
    "indices_top3 = indices[:3]\n",
    "\n",
    "np.random.seed(7)\n",
    "\n",
    "Y_POS = 8\n",
    "\n",
    "TOP_N_FEATURES = 3\n",
    "\n",
    "X = df.iloc[:,0:TOP_N_FEATURES]\n",
    "Y = df.iloc[:,Y_POS]\n",
    "\n",
    "# create thee models\n",
    "X_train, X_test, Y_train, Y_test = train_test_split(X, Y, test_size=0.2, random_state=2020)\n",
    "\n",
    "#scaling to around -2 to 2 (Z)\n",
    "scaler = preprocessing.StandardScaler().fit(X_train)\n",
    "scaled_X_train = scaler.transform(X_train)\n",
    "scaled_X_test = scaler.transform(X_test)"
   ]
  },
  {
   "cell_type": "code",
   "execution_count": 193,
   "metadata": {},
   "outputs": [
    {
     "name": "stdout",
     "output_type": "stream",
     "text": [
      "Regression\n",
      "====================================\n",
      "Training Confusion Matrix: \n",
      "[[360  47]\n",
      " [103 104]]\n",
      "Training Accuracy: 75.57%\n",
      "====================================\n",
      "Testing Confusion Matrix: \n",
      "[[83 10]\n",
      " [31 30]]\n",
      "Testing Accuracy: 73.38%\n",
      "====================================\n"
     ]
    }
   ],
   "source": [
    "# Model 1: Linear Regression\n",
    "\n",
    "linear_clsaasifier = linear_model.LogisticRegression(random_state=123)\n",
    "linear_classifier.fit(scaled_X_train, Y_train)\n",
    "\n",
    "Y_pred_train1 = linear_classifier.predict(scaled_X_train)\n",
    "cm1_train = confusion_matrix(Y_train, Y_pred_train1)\n",
    "print(\"Regression\")\n",
    "print(\"====================================\")\n",
    "print(\"Training Confusion Matrix: \")\n",
    "print(cm1_train)\n",
    "acc1_train = (cm1_train[0,0] + cm1_train[1,1]) / np.sum(np.sum(cm1_train))\n",
    "\n",
    "print(\"Training Accuracy: %.2f%%\" % (acc1_train*100))\n",
    "print(\"====================================\")\n",
    "\n",
    "Y_pred1 = linear_classifier.predict(scaled_X_test)\n",
    "cm1_test = confusion_matrix(Y_test, Y_pred1)\n",
    "print(\"Testing Confusion Matrix: \")\n",
    "print(cm1_test)\n",
    "acc1_test = (cm1_test[0,0] + cm1_test[1,1]) / np.sum(np.sum(cm1_test))\n",
    "\n",
    "print(\"Testing Accuracy: %.2f%%\" % (acc1_test*100))\n",
    "print(\"====================================\")\n"
   ]
  },
  {
   "cell_type": "code",
   "execution_count": 194,
   "metadata": {},
   "outputs": [
    {
     "name": "stdout",
     "output_type": "stream",
     "text": [
      "Decision Tree\n",
      "====================================\n",
      "Training Confusion Matrix: \n",
      "[[407   0]\n",
      " [  3 204]]\n",
      "Training Accuracy: 99.51%\n",
      "====================================\n",
      "Testing Confusion Matrix: \n",
      "[[60 33]\n",
      " [27 34]]\n",
      "Testing Accuracy: 61.04%\n",
      "====================================\n"
     ]
    }
   ],
   "source": [
    "# Model 2: Decision Tree\n",
    "clf = tree.DecisionTreeClassifier()\n",
    "clf = clf.fit(scaled_X_train, Y_train)\n",
    "Y_pred_train2 = clf.predict(scaled_X_train)\n",
    "cm2_train = confusion_matrix(Y_train, Y_pred_train2)\n",
    "print(\"Decision Tree\")\n",
    "print(\"====================================\")\n",
    "print(\"Training Confusion Matrix: \")\n",
    "print(cm2_train)\n",
    "acc2_train = (cm2_train[0,0] + cm2_train[1,1]) / np.sum(np.sum(cm2_train))\n",
    "\n",
    "print(\"Training Accuracy: %.2f%%\" % (acc2_train*100))\n",
    "print(\"====================================\")\n",
    "\n",
    "Y_pred2 = clf.predict(scaled_X_test)    \n",
    "cm2_test = confusion_matrix(Y_test, Y_pred2)\n",
    "print(\"Testing Confusion Matrix: \")\n",
    "print(cm2_test)\n",
    "acc2_test = (cm2_test[0,0] + cm2_test[1,1]) / np.sum(np.sum(cm2_test))\n",
    "\n",
    "print(\"Testing Accuracy: %.2f%%\" % (acc2_test*100))\n",
    "print(\"====================================\")\n",
    "\n"
   ]
  },
  {
   "cell_type": "code",
   "execution_count": 195,
   "metadata": {},
   "outputs": [
    {
     "name": "stdout",
     "output_type": "stream",
     "text": [
      "Random Forest\n",
      "====================================\n",
      "Training Confusion Matrix: \n",
      "[[388  19]\n",
      " [131  76]]\n",
      "Training Accuracy: 75.57%\n",
      "====================================\n",
      "Testing Confusion Matrix: \n",
      "[[88  5]\n",
      " [36 25]]\n",
      "Testing Accuracy: 73.38%\n",
      "====================================\n"
     ]
    }
   ],
   "source": [
    "# Model 3: Random Forest\n",
    "\n",
    "model3 = RandomForestClassifier(n_estimators=100, max_depth=2, random_state=0)\n",
    "model3.fit(scaled_X_train, Y_train)\n",
    "Y_pred_train3 = model3.predict(scaled_X_train)\n",
    "cm3_train = confusion_matrix(Y_train, Y_pred_train3)\n",
    "print(\"Random Forest\")\n",
    "print(\"====================================\")\n",
    "print(\"Training Confusion Matrix: \")\n",
    "print(cm3_train)\n",
    "acc3_train = (cm3_train[0,0] + cm3_train[1,1]) / np.sum(np.sum(cm3_train))\n",
    "\n",
    "print(\"Training Accuracy: %.2f%%\" % (acc3_train*100))\n",
    "print(\"====================================\")\n",
    "\n",
    "Y_pred3 = model3.predict(scaled_X_test)\n",
    "cm3_test = confusion_matrix(Y_test, Y_pred3)\n",
    "print(\"Testing Confusion Matrix: \")\n",
    "print(cm3_test)\n",
    "acc3_test = (cm3_test[0,0] + cm3_test[1,1]) / np.sum(np.sum(cm3_test))\n",
    "\n",
    "print(\"Testing Accuracy: %.2f%%\" % (acc3_test*100))\n",
    "print(\"====================================\")\n",
    "\n"
   ]
  },
  {
   "cell_type": "code",
   "execution_count": 196,
   "metadata": {},
   "outputs": [
    {
     "name": "stdout",
     "output_type": "stream",
     "text": [
      "Gradient Boosting\n",
      "====================================\n",
      "Training Confusion Matrix: \n",
      "[[359  48]\n",
      " [ 86 121]]\n",
      "Training Accuracy: 78.18%\n",
      "====================================\n",
      "Testing Confusion Matrix: \n",
      "[[77 16]\n",
      " [33 28]]\n",
      "Testing Accuracy: 68.18%\n",
      "====================================\n"
     ]
    }
   ],
   "source": [
    "# Model 4: Gradient Boosting\n",
    "\n",
    "model4 = GradientBoostingClassifier(n_estimators=100, learning_rate=1.0, max_depth=1, random_state=0)\n",
    "model4.fit(scaled_X_train, Y_train)\n",
    "Y_pred_train4 = model4.predict(scaled_X_train)\n",
    "cm4_train = confusion_matrix(Y_train, Y_pred_train4)\n",
    "print(\"Gradient Boosting\")\n",
    "print(\"====================================\")\n",
    "print(\"Training Confusion Matrix: \")\n",
    "print(cm4_train)\n",
    "acc4_train = (cm4_train[0,0] + cm4_train[1,1]) / np.sum(np.sum(cm4_train))\n",
    "print(\"Training Accuracy: %.2f%%\" % (acc4_train*100))\n",
    "print(\"====================================\")\n",
    "\n",
    "preds = model4.predict(scaled_X_test)\n",
    "Y_pred4 = (preds > 0.5)\n",
    "Y_pred4 = Y_pred4*1\n",
    "cm4_test = confusion_matrix(Y_test, Y_pred4)\n",
    "print(\"Testing Confusion Matrix: \")\n",
    "print(cm4_test)\n",
    "acc4_test = (cm4_test[0,0] + cm4_test[1,1]) / np.sum(np.sum(cm4_test))\n",
    "print(\"Testing Accuracy: %.2f%%\" % (acc4_test*100))\n",
    "print(\"====================================\")\n"
   ]
  },
  {
   "cell_type": "code",
   "execution_count": 197,
   "metadata": {},
   "outputs": [
    {
     "name": "stdout",
     "output_type": "stream",
     "text": [
      "\u001b[1m20/20\u001b[0m \u001b[32m━━━━━━━━━━━━━━━━━━━━\u001b[0m\u001b[37m\u001b[0m \u001b[1m0s\u001b[0m 658us/step - accuracy: 0.7164 - loss: 0.5696\n",
      "Neural Network Trainset: \n",
      "compile_metrics: 73.13%\n",
      "\u001b[1m5/5\u001b[0m \u001b[32m━━━━━━━━━━━━━━━━━━━━\u001b[0m\u001b[37m\u001b[0m \u001b[1m0s\u001b[0m 7ms/step \n",
      "Neural Network Testset Confusion Matrix: \n",
      "[[80 13]\n",
      " [39 22]]\n",
      "Neural Network Testset Accuracy: 66.23%\n"
     ]
    }
   ],
   "source": [
    "# Model 5: Neural Network\n",
    "model5 = Sequential()\n",
    "model5.add(Input(shape=(TOP_N_FEATURES,)))\n",
    "model5.add(Dense(10, activation='relu'))\n",
    "model5.add(Dense(10, activation='relu'))\n",
    "model5.add(Dropout(0.2))\n",
    "model5.add(Dense(1, activation='sigmoid'))\n",
    "\n",
    "# Compile model\n",
    "model5.compile(loss='binary_crossentropy', optimizer='Adamax', metrics=['accuracy'])\n",
    "\n",
    "model5.fit(X_train, Y_train, epochs=100, batch_size=5, verbose=0)\n",
    "\n",
    "# Evaluate the model\n",
    "scores = model5.evaluate(X_train, Y_train)\n",
    "\n",
    "print(\"Neural Network Trainset: \\n%s: %.2f%%\" % (model5.metrics_names[1], scores[1]*100))\n",
    "\n",
    "predictions = model5.predict(X_test)\n",
    "\n",
    "Y_pred = (predictions > 0.5)\n",
    "Y_pred = Y_pred*1\n",
    "cm = confusion_matrix(Y_test, Y_pred)\n",
    "print(\"Neural Network Testset Confusion Matrix: \")\n",
    "print(cm)\n",
    "\n",
    "acc = (cm[0,0] + cm[1,1]) / np.sum(np.sum(cm))\n",
    "print(\"Neural Network Testset Accuracy: %.2f%%\" % (acc*100))\n",
    "\n"
   ]
  },
  {
   "cell_type": "code",
   "execution_count": 198,
   "metadata": {},
   "outputs": [
    {
     "name": "stdout",
     "output_type": "stream",
     "text": [
      "SVM (Classiefier)\n",
      "====================================\n",
      "Training Confusion Matrix: \n",
      "[[374  33]\n",
      " [101 106]]\n",
      "Training Accuracy: 78.18%\n",
      "====================================\n",
      "Testing Confusion Matrix: \n",
      "[[85  8]\n",
      " [36 25]]\n",
      "Testing Accuracy: 71.43%\n",
      "====================================\n"
     ]
    }
   ],
   "source": [
    "from sklearn import svm\n",
    "\n",
    "clf = svm.SVC()\n",
    "train_and_predict_using_model('SVM (Classiefier)', clf)"
   ]
  },
  {
   "cell_type": "markdown",
   "metadata": {},
   "source": [
    "Chapter 11.9 Hyper Parameters and SVM"
   ]
  },
  {
   "cell_type": "code",
   "execution_count": 199,
   "metadata": {},
   "outputs": [
    {
     "name": "stdout",
     "output_type": "stream",
     "text": [
      "SVM (Classiefier) - RBF\n",
      "====================================\n",
      "Training Confusion Matrix: \n",
      "[[374  33]\n",
      " [101 106]]\n",
      "Training Accuracy: 78.18%\n",
      "====================================\n",
      "Testing Confusion Matrix: \n",
      "[[85  8]\n",
      " [36 25]]\n",
      "Testing Accuracy: 71.43%\n",
      "====================================\n"
     ]
    }
   ],
   "source": [
    "\n",
    "\n",
    "rbf_clf = svm.SVC(kernel='rbf')\n",
    "train_and_predict_using_model('SVM (Classiefier) - RBF', rbf_clf)"
   ]
  },
  {
   "cell_type": "code",
   "execution_count": 200,
   "metadata": {},
   "outputs": [
    {
     "name": "stdout",
     "output_type": "stream",
     "text": [
      "SVM (Classiefier) - Poly\n",
      "====================================\n",
      "Training Confusion Matrix: \n",
      "[[389  18]\n",
      " [139  68]]\n",
      "Training Accuracy: 74.43%\n",
      "====================================\n",
      "Testing Confusion Matrix: \n",
      "[[88  5]\n",
      " [43 18]]\n",
      "Testing Accuracy: 68.83%\n",
      "====================================\n"
     ]
    }
   ],
   "source": [
    "rbf_svc = svm.SVC(kernel='poly')\n",
    "train_and_predict_using_model('SVM (Classiefier) - Poly', rbf_svc)"
   ]
  },
  {
   "cell_type": "code",
   "execution_count": 201,
   "metadata": {},
   "outputs": [
    {
     "name": "stdout",
     "output_type": "stream",
     "text": [
      "SVM (Classiefier) - Sigmoid\n",
      "====================================\n",
      "Training Confusion Matrix: \n",
      "[[310  97]\n",
      " [106 101]]\n",
      "Training Accuracy: 66.94%\n",
      "====================================\n",
      "Testing Confusion Matrix: \n",
      "[[70 23]\n",
      " [32 29]]\n",
      "Testing Accuracy: 64.29%\n",
      "====================================\n"
     ]
    }
   ],
   "source": [
    "rbf_svc = svm.SVC(kernel='sigmoid')\n",
    "train_and_predict_using_model('SVM (Classiefier) - Sigmoid', rbf_svc)"
   ]
  },
  {
   "cell_type": "code",
   "execution_count": 202,
   "metadata": {},
   "outputs": [
    {
     "name": "stdout",
     "output_type": "stream",
     "text": [
      "SVM (Classiefier) - Linear\n",
      "====================================\n",
      "Training Confusion Matrix: \n",
      "[[320  87]\n",
      " [ 70 137]]\n",
      "Training Accuracy: 74.43%\n",
      "====================================\n",
      "Testing Confusion Matrix: \n",
      "[[70 23]\n",
      " [19 42]]\n",
      "Testing Accuracy: 72.73%\n",
      "====================================\n"
     ]
    }
   ],
   "source": [
    "wclf = svm.SVC(kernel='linear', class_weight={1:2})\n",
    "train_and_predict_using_model('SVM (Classiefier) - Linear', wclf)"
   ]
  },
  {
   "cell_type": "markdown",
   "metadata": {},
   "source": [
    "Chapter 11.10 Naive Bayes\n"
   ]
  },
  {
   "cell_type": "code",
   "execution_count": 203,
   "metadata": {},
   "outputs": [
    {
     "name": "stdout",
     "output_type": "stream",
     "text": [
      "Naive Bayes\n",
      "====================================\n",
      "Training Confusion Matrix: \n",
      "[[355  52]\n",
      " [ 94 113]]\n",
      "Training Accuracy: 76.22%\n",
      "====================================\n",
      "Testing Confusion Matrix: \n",
      "[[80 13]\n",
      " [28 33]]\n",
      "Testing Accuracy: 73.38%\n",
      "====================================\n"
     ]
    }
   ],
   "source": [
    "from sklearn.naive_bayes import GaussianNB\n",
    "\n",
    "# Maximum Likelihood Estimation\n",
    "\n",
    "gnb = GaussianNB()\n",
    "train_and_predict_using_model('Naive Bayes', gnb)"
   ]
  },
  {
   "cell_type": "code",
   "execution_count": 205,
   "metadata": {},
   "outputs": [
    {
     "name": "stdout",
     "output_type": "stream",
     "text": [
      "model prior [0.104 0.896] close to your defined prior [0.1, 0.9]\n"
     ]
    }
   ],
   "source": [
    "X, Y = make_classification(n_samples=1000, weights=[0.1, 0.9])\n",
    "# Your GNB Estimator\n",
    "gnb = GaussianNB()\n",
    "gnb.fit(X, Y)\n",
    "\n",
    "print(\"model prior {} close to your defined prior {}\".format(gnb.class_prior_, [0.1, 0.9]))"
   ]
  },
  {
   "cell_type": "markdown",
   "metadata": {},
   "source": [
    "Chapter 11.11 Sample Code\n"
   ]
  },
  {
   "cell_type": "code",
   "execution_count": null,
   "metadata": {},
   "outputs": [],
   "source": []
  }
 ],
 "metadata": {
  "kernelspec": {
   "display_name": "Python 3",
   "language": "python",
   "name": "python3"
  },
  "language_info": {
   "codemirror_mode": {
    "name": "ipython",
    "version": 3
   },
   "file_extension": ".py",
   "mimetype": "text/x-python",
   "name": "python",
   "nbconvert_exporter": "python",
   "pygments_lexer": "ipython3",
   "version": "3.12.3"
  }
 },
 "nbformat": 4,
 "nbformat_minor": 2
}
