{
 "cells": [
  {
   "cell_type": "code",
   "execution_count": 3,
   "metadata": {},
   "outputs": [],
   "source": [
    "from keras import Sequential\n",
    "from keras.layers import Dense, Dropout\n",
    "from sklearn.metrics import classification_report, confusion_matrix\n",
    "from sklearn.model_selection import train_test_split\n",
    "from sklearn.metrics import mean_squared_error\n",
    "import numpy as np\n",
    "from sklearn import linear_model\n",
    "from sklearn import preprocessing\n",
    "from sklearn import tree\n",
    "from sklearn.ensemble import RandomForestRegressor, GradientBoostingRegressor\n",
    "import pandas as pd\n",
    "import csv"
   ]
  },
  {
   "cell_type": "code",
   "execution_count": 5,
   "metadata": {},
   "outputs": [],
   "source": [
    "np.random.seed(7)\n",
    "df = pd.read_csv(\"Alumni Giving Regression (Edited).csv\", delimiter=\",\")\n",
    "df.head()\n",
    "\n",
    "df.describe()\n",
    "\n",
    "corr = df.corr(method='pearson')\n",
    "corr\n",
    "\n",
    "Y_POS = 5\n",
    "model_l_features = [i for i in range(0, Y_POS)]\n",
    "X = df.iloc[:, model_l_features]\n",
    "Y = df.iloc[:, Y_POS]\n",
    "\n",
    "X_train, X_test, Y_train, Y_test = train_test_split(X, Y, test_size=0.2, random_state=2020)"
   ]
  },
  {
   "cell_type": "code",
   "execution_count": 6,
   "metadata": {},
   "outputs": [
    {
     "name": "stdout",
     "output_type": "stream",
     "text": [
      "Decision Tree\n",
      "============================================================\n",
      "Decision Tree Train set RMSE 1.4739259778473743e-36\n",
      "============================================================\n"
     ]
    }
   ],
   "source": [
    "# model 2 decision tree\n",
    "model2 = tree.DecisionTreeRegressor()\n",
    "model2.fit(X_train, Y_train)\n",
    "print(\"Decision Tree\")\n",
    "print(\"============================================================\")\n",
    "y_pred_train2 = model2.predict(X_train)\n",
    "RMSE_train2 = mean_squared_error(Y_train, y_pred_train2)\n",
    "print(\"Decision Tree Train set RMSE {}\".format(RMSE_train2))\n",
    "print(\"============================================================\")"
   ]
  },
  {
   "cell_type": "code",
   "execution_count": null,
   "metadata": {},
   "outputs": [],
   "source": []
  }
 ],
 "metadata": {
  "kernelspec": {
   "display_name": "Python 3",
   "language": "python",
   "name": "python3"
  },
  "language_info": {
   "codemirror_mode": {
    "name": "ipython",
    "version": 3
   },
   "file_extension": ".py",
   "mimetype": "text/x-python",
   "name": "python",
   "nbconvert_exporter": "python",
   "pygments_lexer": "ipython3",
   "version": "3.12.3"
  }
 },
 "nbformat": 4,
 "nbformat_minor": 2
}
