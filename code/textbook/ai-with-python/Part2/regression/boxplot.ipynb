{
 "cells": [
  {
   "cell_type": "code",
   "execution_count": 1,
   "metadata": {},
   "outputs": [],
   "source": [
    "from keras import Sequential\n",
    "from keras.layers import Dense, Dropout\n",
    "from sklearn.metrics import classification_report, confusion_matrix\n",
    "from sklearn.model_selection import train_test_split\n",
    "from sklearn.metrics import mean_squared_error\n",
    "import numpy as np\n",
    "from sklearn import linear_model\n",
    "from sklearn import preprocessing\n",
    "from sklearn import tree\n",
    "from sklearn.ensemble import RandomForestRegressor, GradientBoostingRegressor\n",
    "import pandas as pd\n",
    "import csv\n",
    "\n"
   ]
  },
  {
   "cell_type": "code",
   "execution_count": 2,
   "metadata": {},
   "outputs": [
    {
     "name": "stdout",
     "output_type": "stream",
     "text": [
      "                A           B           C           D           E           F\n",
      "count  123.000000  123.000000  123.000000  123.000000  123.000000  123.000000\n",
      "mean    17.772358    0.403659    0.136260    0.645203    0.841138    0.141789\n",
      "std      4.517385    0.133897    0.060101    0.169794    0.083942    0.080674\n",
      "min      6.000000    0.140000    0.000000    0.260000    0.580000    0.020000\n",
      "25%     16.000000    0.320000    0.095000    0.505000    0.780000    0.080000\n",
      "50%     18.000000    0.380000    0.130000    0.640000    0.840000    0.130000\n",
      "75%     20.000000    0.460000    0.180000    0.785000    0.910000    0.170000\n",
      "max     31.000000    0.950000    0.310000    0.960000    0.980000    0.410000\n",
      "          A         B         C         D         E         F\n",
      "A  1.000000 -0.691900  0.414978 -0.604574 -0.521985 -0.549244\n",
      "B -0.691900  1.000000 -0.581516  0.487248  0.376735  0.540427\n",
      "C  0.414978 -0.581516  1.000000  0.017023  0.055766 -0.175102\n",
      "D -0.604574  0.487248  0.017023  1.000000  0.934396  0.681660\n",
      "E -0.521985  0.376735  0.055766  0.934396  1.000000  0.647625\n",
      "F -0.549244  0.540427 -0.175102  0.681660  0.647625  1.000000\n"
     ]
    }
   ],
   "source": [
    "np.random.seed(7)\n",
    "df = pd.read_csv(\"Alumni Giving Regression (Edited).csv\", delimiter=\",\")\n",
    "df.head()\n",
    "\n",
    "print(df.describe())\n",
    "\n",
    "corr = df.corr(method='pearson')\n",
    "print(corr)\n",
    "\n",
    "Y_POS = 5\n",
    "model_l_features = [i for i in range(0, Y_POS)]\n",
    "X = df.iloc[:, model_l_features]\n",
    "Y = df.iloc[:, Y_POS]\n",
    "\n",
    "X_train, X_test, Y_train, Y_test = train_test_split(X, Y, test_size=0.2, random_state=2020)"
   ]
  },
  {
   "cell_type": "code",
   "execution_count": 3,
   "metadata": {},
   "outputs": [
    {
     "data": {
      "image/png": "[encoded data removed]",
      "text/plain": [
       "<Figure size 640x480 with 1 Axes>"
      ]
     },
     "metadata": {},
     "output_type": "display_data"
    }
   ],
   "source": [
    "boxplot = pd.DataFrame(df).boxplot()"
   ]
  },
  {
   "cell_type": "code",
   "execution_count": 4,
   "metadata": {},
   "outputs": [
    {
     "data": {
      "text/plain": [
       "<Axes: >"
      ]
     },
     "execution_count": 4,
     "metadata": {},
     "output_type": "execute_result"
    }
   ],
   "source": [
    "# remove outliers\n",
    "\n",
    "quantile99 = df.iloc[:, 0].quantile(0.99)\n",
    "\n",
    "df1 = df[df.iloc[:,0] < quantile99]\n",
    "df1.boxplot()"
   ]
  },
  {
   "cell_type": "code",
   "execution_count": 5,
   "metadata": {},
   "outputs": [
    {
     "data": {
      "text/plain": [
       "<Axes: >"
      ]
     },
     "execution_count": 5,
     "metadata": {},
     "output_type": "execute_result"
    }
   ],
   "source": [
    "quantile1 = df.iloc[:, 0].quantile(0.01)\n",
    "quantile99 = df.iloc[:, 0].quantile(0.99)\n",
    "df2 = df[(df.iloc[:,1] > quantile1) & (df.iloc[:,0] < quantile99)]\n",
    "\n",
    "df2.boxplot()\n"
   ]
  },
  {
   "cell_type": "code",
   "execution_count": 6,
   "metadata": {},
   "outputs": [
    {
     "data": {
      "text/plain": [
       "(0, 6)"
      ]
     },
     "execution_count": 6,
     "metadata": {},
     "output_type": "execute_result"
    }
   ],
   "source": [
    "df2.shape\n"
   ]
  },
  {
   "cell_type": "code",
   "execution_count": 9,
   "metadata": {},
   "outputs": [],
   "source": [
    "boxplot2 = pd.DataFrame(df2).boxplot()"
   ]
  },
  {
   "cell_type": "code",
   "execution_count": null,
   "metadata": {},
   "outputs": [],
   "source": [
    "# Remove NA\n",
    "\n",
    "df.dropna()\n",
    "df1.dropna()"
   ]
  }
 ],
 "metadata": {
  "kernelspec": {
   "display_name": "Python 3",
   "language": "python",
   "name": "python3"
  },
  "language_info": {
   "codemirror_mode": {
    "name": "ipython",
    "version": 3
   },
   "file_extension": ".py",
   "mimetype": "text/x-python",
   "name": "python",
   "nbconvert_exporter": "python",
   "pygments_lexer": "ipython3",
   "version": "3.12.3"
  }
 },
 "nbformat": 4,
 "nbformat_minor": 2
}
